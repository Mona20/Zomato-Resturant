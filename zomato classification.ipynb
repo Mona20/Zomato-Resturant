{
 "cells": [
  {
   "cell_type": "markdown",
   "metadata": {},
   "source": [
    "# import libiraries"
   ]
  },
  {
   "cell_type": "code",
   "execution_count": 1,
   "metadata": {},
   "outputs": [],
   "source": [
    "import pandas as pd\n",
    "import numpy as np\n",
    "import matplotlib.pyplot as plt\n",
    "import seaborn as sns\n",
    "%matplotlib inline\n",
    "from datasist.structdata import detect_outliers\n",
    "from sklearn.model_selection import train_test_split\n",
    "from sklearn.preprocessing import StandardScaler\n",
    "from sklearn.linear_model import LogisticRegression\n",
    "from sklearn.linear_model import LinearRegression\n",
    "from sklearn.neighbors import KNeighborsClassifier\n",
    "from sklearn.tree import DecisionTreeClassifier\n",
    "from xgboost import XGBClassifier\n",
    "from sklearn.svm import SVC\n",
    "from sklearn.ensemble import RandomForestClassifier\n",
    "from sklearn.compose import ColumnTransformer\n",
    "from sklearn.preprocessing import OneHotEncoder , RobustScaler\n",
    "from category_encoders.binary import BinaryEncoder\n",
    "from sklearn.pipeline import Pipeline\n",
    "from sklearn.model_selection import cross_validate\n",
    "from sklearn.model_selection import GridSearchCV\n",
    "from sklearn.metrics import r2_score, mean_absolute_error, mean_squared_error\n",
    "from sklearn.metrics import confusion_matrix, accuracy_score, precision_score, recall_score, f1_score, fbeta_score, classification_report\n",
    "import joblib"
   ]
  },
  {
   "cell_type": "code",
   "execution_count": 2,
   "metadata": {},
   "outputs": [],
   "source": [
    "#!pip install xgboost"
   ]
  },
  {
   "cell_type": "code",
   "execution_count": 3,
   "metadata": {},
   "outputs": [],
   "source": [
    "#!pip install category-encoders"
   ]
  },
  {
   "cell_type": "code",
   "execution_count": 4,
   "metadata": {},
   "outputs": [],
   "source": [
    "#!pip install --upgrade git+https://github.com/scikit-learn-contrib/category_encoders"
   ]
  },
  {
   "cell_type": "markdown",
   "metadata": {},
   "source": [
    "# reading data"
   ]
  },
  {
   "cell_type": "code",
   "execution_count": 5,
   "metadata": {},
   "outputs": [
    {
     "data": {
      "text/html": [
       "<div>\n",
       "<style scoped>\n",
       "    .dataframe tbody tr th:only-of-type {\n",
       "        vertical-align: middle;\n",
       "    }\n",
       "\n",
       "    .dataframe tbody tr th {\n",
       "        vertical-align: top;\n",
       "    }\n",
       "\n",
       "    .dataframe thead th {\n",
       "        text-align: right;\n",
       "    }\n",
       "</style>\n",
       "<table border=\"1\" class=\"dataframe\">\n",
       "  <thead>\n",
       "    <tr style=\"text-align: right;\">\n",
       "      <th></th>\n",
       "      <th>url</th>\n",
       "      <th>address</th>\n",
       "      <th>name</th>\n",
       "      <th>online_order</th>\n",
       "      <th>book_table</th>\n",
       "      <th>rate</th>\n",
       "      <th>votes</th>\n",
       "      <th>phone</th>\n",
       "      <th>location</th>\n",
       "      <th>rest_type</th>\n",
       "      <th>dish_liked</th>\n",
       "      <th>cuisines</th>\n",
       "      <th>approx_cost(for two people)</th>\n",
       "      <th>reviews_list</th>\n",
       "      <th>menu_item</th>\n",
       "      <th>listed_in(type)</th>\n",
       "      <th>listed_in(city)</th>\n",
       "    </tr>\n",
       "  </thead>\n",
       "  <tbody>\n",
       "    <tr>\n",
       "      <th>0</th>\n",
       "      <td>https://www.zomato.com/bangalore/jalsa-banasha...</td>\n",
       "      <td>942, 21st Main Road, 2nd Stage, Banashankari, ...</td>\n",
       "      <td>Jalsa</td>\n",
       "      <td>Yes</td>\n",
       "      <td>Yes</td>\n",
       "      <td>4.1/5</td>\n",
       "      <td>775</td>\n",
       "      <td>080 42297555\\r\\n+91 9743772233</td>\n",
       "      <td>Banashankari</td>\n",
       "      <td>Casual Dining</td>\n",
       "      <td>Pasta, Lunch Buffet, Masala Papad, Paneer Laja...</td>\n",
       "      <td>North Indian, Mughlai, Chinese</td>\n",
       "      <td>800</td>\n",
       "      <td>[('Rated 4.0', 'RATED\\n  A beautiful place to ...</td>\n",
       "      <td>[]</td>\n",
       "      <td>Buffet</td>\n",
       "      <td>Banashankari</td>\n",
       "    </tr>\n",
       "    <tr>\n",
       "      <th>1</th>\n",
       "      <td>https://www.zomato.com/bangalore/spice-elephan...</td>\n",
       "      <td>2nd Floor, 80 Feet Road, Near Big Bazaar, 6th ...</td>\n",
       "      <td>Spice Elephant</td>\n",
       "      <td>Yes</td>\n",
       "      <td>No</td>\n",
       "      <td>4.1/5</td>\n",
       "      <td>787</td>\n",
       "      <td>080 41714161</td>\n",
       "      <td>Banashankari</td>\n",
       "      <td>Casual Dining</td>\n",
       "      <td>Momos, Lunch Buffet, Chocolate Nirvana, Thai G...</td>\n",
       "      <td>Chinese, North Indian, Thai</td>\n",
       "      <td>800</td>\n",
       "      <td>[('Rated 4.0', 'RATED\\n  Had been here for din...</td>\n",
       "      <td>[]</td>\n",
       "      <td>Buffet</td>\n",
       "      <td>Banashankari</td>\n",
       "    </tr>\n",
       "    <tr>\n",
       "      <th>2</th>\n",
       "      <td>https://www.zomato.com/SanchurroBangalore?cont...</td>\n",
       "      <td>1112, Next to KIMS Medical College, 17th Cross...</td>\n",
       "      <td>San Churro Cafe</td>\n",
       "      <td>Yes</td>\n",
       "      <td>No</td>\n",
       "      <td>3.8/5</td>\n",
       "      <td>918</td>\n",
       "      <td>+91 9663487993</td>\n",
       "      <td>Banashankari</td>\n",
       "      <td>Cafe, Casual Dining</td>\n",
       "      <td>Churros, Cannelloni, Minestrone Soup, Hot Choc...</td>\n",
       "      <td>Cafe, Mexican, Italian</td>\n",
       "      <td>800</td>\n",
       "      <td>[('Rated 3.0', \"RATED\\n  Ambience is not that ...</td>\n",
       "      <td>[]</td>\n",
       "      <td>Buffet</td>\n",
       "      <td>Banashankari</td>\n",
       "    </tr>\n",
       "    <tr>\n",
       "      <th>3</th>\n",
       "      <td>https://www.zomato.com/bangalore/addhuri-udupi...</td>\n",
       "      <td>1st Floor, Annakuteera, 3rd Stage, Banashankar...</td>\n",
       "      <td>Addhuri Udupi Bhojana</td>\n",
       "      <td>No</td>\n",
       "      <td>No</td>\n",
       "      <td>3.7/5</td>\n",
       "      <td>88</td>\n",
       "      <td>+91 9620009302</td>\n",
       "      <td>Banashankari</td>\n",
       "      <td>Quick Bites</td>\n",
       "      <td>Masala Dosa</td>\n",
       "      <td>South Indian, North Indian</td>\n",
       "      <td>300</td>\n",
       "      <td>[('Rated 4.0', \"RATED\\n  Great food and proper...</td>\n",
       "      <td>[]</td>\n",
       "      <td>Buffet</td>\n",
       "      <td>Banashankari</td>\n",
       "    </tr>\n",
       "    <tr>\n",
       "      <th>4</th>\n",
       "      <td>https://www.zomato.com/bangalore/grand-village...</td>\n",
       "      <td>10, 3rd Floor, Lakshmi Associates, Gandhi Baza...</td>\n",
       "      <td>Grand Village</td>\n",
       "      <td>No</td>\n",
       "      <td>No</td>\n",
       "      <td>3.8/5</td>\n",
       "      <td>166</td>\n",
       "      <td>+91 8026612447\\r\\n+91 9901210005</td>\n",
       "      <td>Basavanagudi</td>\n",
       "      <td>Casual Dining</td>\n",
       "      <td>Panipuri, Gol Gappe</td>\n",
       "      <td>North Indian, Rajasthani</td>\n",
       "      <td>600</td>\n",
       "      <td>[('Rated 4.0', 'RATED\\n  Very good restaurant ...</td>\n",
       "      <td>[]</td>\n",
       "      <td>Buffet</td>\n",
       "      <td>Banashankari</td>\n",
       "    </tr>\n",
       "  </tbody>\n",
       "</table>\n",
       "</div>"
      ],
      "text/plain": [
       "                                                 url  \\\n",
       "0  https://www.zomato.com/bangalore/jalsa-banasha...   \n",
       "1  https://www.zomato.com/bangalore/spice-elephan...   \n",
       "2  https://www.zomato.com/SanchurroBangalore?cont...   \n",
       "3  https://www.zomato.com/bangalore/addhuri-udupi...   \n",
       "4  https://www.zomato.com/bangalore/grand-village...   \n",
       "\n",
       "                                             address                   name  \\\n",
       "0  942, 21st Main Road, 2nd Stage, Banashankari, ...                  Jalsa   \n",
       "1  2nd Floor, 80 Feet Road, Near Big Bazaar, 6th ...         Spice Elephant   \n",
       "2  1112, Next to KIMS Medical College, 17th Cross...        San Churro Cafe   \n",
       "3  1st Floor, Annakuteera, 3rd Stage, Banashankar...  Addhuri Udupi Bhojana   \n",
       "4  10, 3rd Floor, Lakshmi Associates, Gandhi Baza...          Grand Village   \n",
       "\n",
       "  online_order book_table   rate  votes                             phone  \\\n",
       "0          Yes        Yes  4.1/5    775    080 42297555\\r\\n+91 9743772233   \n",
       "1          Yes         No  4.1/5    787                      080 41714161   \n",
       "2          Yes         No  3.8/5    918                    +91 9663487993   \n",
       "3           No         No  3.7/5     88                    +91 9620009302   \n",
       "4           No         No  3.8/5    166  +91 8026612447\\r\\n+91 9901210005   \n",
       "\n",
       "       location            rest_type  \\\n",
       "0  Banashankari        Casual Dining   \n",
       "1  Banashankari        Casual Dining   \n",
       "2  Banashankari  Cafe, Casual Dining   \n",
       "3  Banashankari          Quick Bites   \n",
       "4  Basavanagudi        Casual Dining   \n",
       "\n",
       "                                          dish_liked  \\\n",
       "0  Pasta, Lunch Buffet, Masala Papad, Paneer Laja...   \n",
       "1  Momos, Lunch Buffet, Chocolate Nirvana, Thai G...   \n",
       "2  Churros, Cannelloni, Minestrone Soup, Hot Choc...   \n",
       "3                                        Masala Dosa   \n",
       "4                                Panipuri, Gol Gappe   \n",
       "\n",
       "                         cuisines approx_cost(for two people)  \\\n",
       "0  North Indian, Mughlai, Chinese                         800   \n",
       "1     Chinese, North Indian, Thai                         800   \n",
       "2          Cafe, Mexican, Italian                         800   \n",
       "3      South Indian, North Indian                         300   \n",
       "4        North Indian, Rajasthani                         600   \n",
       "\n",
       "                                        reviews_list menu_item  \\\n",
       "0  [('Rated 4.0', 'RATED\\n  A beautiful place to ...        []   \n",
       "1  [('Rated 4.0', 'RATED\\n  Had been here for din...        []   \n",
       "2  [('Rated 3.0', \"RATED\\n  Ambience is not that ...        []   \n",
       "3  [('Rated 4.0', \"RATED\\n  Great food and proper...        []   \n",
       "4  [('Rated 4.0', 'RATED\\n  Very good restaurant ...        []   \n",
       "\n",
       "  listed_in(type) listed_in(city)  \n",
       "0          Buffet    Banashankari  \n",
       "1          Buffet    Banashankari  \n",
       "2          Buffet    Banashankari  \n",
       "3          Buffet    Banashankari  \n",
       "4          Buffet    Banashankari  "
      ]
     },
     "execution_count": 5,
     "metadata": {},
     "output_type": "execute_result"
    }
   ],
   "source": [
    "df=pd.read_csv('zomato.csv')\n",
    "df.head(5)"
   ]
  },
  {
   "cell_type": "code",
   "execution_count": 6,
   "metadata": {},
   "outputs": [
    {
     "name": "stdout",
     "output_type": "stream",
     "text": [
      "<class 'pandas.core.frame.DataFrame'>\n",
      "RangeIndex: 51717 entries, 0 to 51716\n",
      "Data columns (total 17 columns):\n",
      " #   Column                       Non-Null Count  Dtype \n",
      "---  ------                       --------------  ----- \n",
      " 0   url                          51717 non-null  object\n",
      " 1   address                      51717 non-null  object\n",
      " 2   name                         51717 non-null  object\n",
      " 3   online_order                 51717 non-null  object\n",
      " 4   book_table                   51717 non-null  object\n",
      " 5   rate                         43942 non-null  object\n",
      " 6   votes                        51717 non-null  int64 \n",
      " 7   phone                        50509 non-null  object\n",
      " 8   location                     51696 non-null  object\n",
      " 9   rest_type                    51490 non-null  object\n",
      " 10  dish_liked                   23639 non-null  object\n",
      " 11  cuisines                     51672 non-null  object\n",
      " 12  approx_cost(for two people)  51371 non-null  object\n",
      " 13  reviews_list                 51717 non-null  object\n",
      " 14  menu_item                    51717 non-null  object\n",
      " 15  listed_in(type)              51717 non-null  object\n",
      " 16  listed_in(city)              51717 non-null  object\n",
      "dtypes: int64(1), object(16)\n",
      "memory usage: 6.7+ MB\n"
     ]
    }
   ],
   "source": [
    "df.info()"
   ]
  },
  {
   "cell_type": "code",
   "execution_count": 7,
   "metadata": {},
   "outputs": [
    {
     "data": {
      "text/html": [
       "<div>\n",
       "<style scoped>\n",
       "    .dataframe tbody tr th:only-of-type {\n",
       "        vertical-align: middle;\n",
       "    }\n",
       "\n",
       "    .dataframe tbody tr th {\n",
       "        vertical-align: top;\n",
       "    }\n",
       "\n",
       "    .dataframe thead th {\n",
       "        text-align: right;\n",
       "    }\n",
       "</style>\n",
       "<table border=\"1\" class=\"dataframe\">\n",
       "  <thead>\n",
       "    <tr style=\"text-align: right;\">\n",
       "      <th></th>\n",
       "      <th>votes</th>\n",
       "    </tr>\n",
       "  </thead>\n",
       "  <tbody>\n",
       "    <tr>\n",
       "      <th>count</th>\n",
       "      <td>51717.000000</td>\n",
       "    </tr>\n",
       "    <tr>\n",
       "      <th>mean</th>\n",
       "      <td>283.697527</td>\n",
       "    </tr>\n",
       "    <tr>\n",
       "      <th>std</th>\n",
       "      <td>803.838853</td>\n",
       "    </tr>\n",
       "    <tr>\n",
       "      <th>min</th>\n",
       "      <td>0.000000</td>\n",
       "    </tr>\n",
       "    <tr>\n",
       "      <th>25%</th>\n",
       "      <td>7.000000</td>\n",
       "    </tr>\n",
       "    <tr>\n",
       "      <th>50%</th>\n",
       "      <td>41.000000</td>\n",
       "    </tr>\n",
       "    <tr>\n",
       "      <th>75%</th>\n",
       "      <td>198.000000</td>\n",
       "    </tr>\n",
       "    <tr>\n",
       "      <th>max</th>\n",
       "      <td>16832.000000</td>\n",
       "    </tr>\n",
       "  </tbody>\n",
       "</table>\n",
       "</div>"
      ],
      "text/plain": [
       "              votes\n",
       "count  51717.000000\n",
       "mean     283.697527\n",
       "std      803.838853\n",
       "min        0.000000\n",
       "25%        7.000000\n",
       "50%       41.000000\n",
       "75%      198.000000\n",
       "max    16832.000000"
      ]
     },
     "execution_count": 7,
     "metadata": {},
     "output_type": "execute_result"
    }
   ],
   "source": [
    "df.describe()"
   ]
  },
  {
   "cell_type": "markdown",
   "metadata": {},
   "source": [
    "# cleaning data"
   ]
  },
  {
   "cell_type": "code",
   "execution_count": 8,
   "metadata": {
    "scrolled": true
   },
   "outputs": [
    {
     "data": {
      "text/plain": [
       "url                                0\n",
       "address                            0\n",
       "name                               0\n",
       "online_order                       0\n",
       "book_table                         0\n",
       "rate                            7775\n",
       "votes                              0\n",
       "phone                           1208\n",
       "location                          21\n",
       "rest_type                        227\n",
       "dish_liked                     28078\n",
       "cuisines                          45\n",
       "approx_cost(for two people)      346\n",
       "reviews_list                       0\n",
       "menu_item                          0\n",
       "listed_in(type)                    0\n",
       "listed_in(city)                    0\n",
       "dtype: int64"
      ]
     },
     "execution_count": 8,
     "metadata": {},
     "output_type": "execute_result"
    }
   ],
   "source": [
    "df.isnull().sum()"
   ]
  },
  {
   "cell_type": "code",
   "execution_count": 9,
   "metadata": {},
   "outputs": [],
   "source": [
    "#drop less importnt column\n",
    "df.drop(['url','address','phone','menu_item','reviews_list'],axis=1,inplace=True)"
   ]
  },
  {
   "cell_type": "code",
   "execution_count": 10,
   "metadata": {},
   "outputs": [],
   "source": [
    "#drop column has alot of nan\n",
    "df.drop(['dish_liked'],axis=1,inplace=True)"
   ]
  },
  {
   "cell_type": "code",
   "execution_count": 11,
   "metadata": {},
   "outputs": [],
   "source": [
    "#drop nan\n",
    "df.dropna(how='any',inplace=True)\n"
   ]
  },
  {
   "cell_type": "code",
   "execution_count": 12,
   "metadata": {},
   "outputs": [
    {
     "data": {
      "text/html": [
       "<div>\n",
       "<style scoped>\n",
       "    .dataframe tbody tr th:only-of-type {\n",
       "        vertical-align: middle;\n",
       "    }\n",
       "\n",
       "    .dataframe tbody tr th {\n",
       "        vertical-align: top;\n",
       "    }\n",
       "\n",
       "    .dataframe thead th {\n",
       "        text-align: right;\n",
       "    }\n",
       "</style>\n",
       "<table border=\"1\" class=\"dataframe\">\n",
       "  <thead>\n",
       "    <tr style=\"text-align: right;\">\n",
       "      <th></th>\n",
       "      <th>name</th>\n",
       "      <th>online_order</th>\n",
       "      <th>book_table</th>\n",
       "      <th>rate</th>\n",
       "      <th>votes</th>\n",
       "      <th>location</th>\n",
       "      <th>rest_type</th>\n",
       "      <th>cuisines</th>\n",
       "      <th>approx_cost(for two people)</th>\n",
       "      <th>listed_in(type)</th>\n",
       "      <th>listed_in(city)</th>\n",
       "    </tr>\n",
       "  </thead>\n",
       "  <tbody>\n",
       "    <tr>\n",
       "      <th>0</th>\n",
       "      <td>Jalsa</td>\n",
       "      <td>Yes</td>\n",
       "      <td>Yes</td>\n",
       "      <td>4.1/5</td>\n",
       "      <td>775</td>\n",
       "      <td>Banashankari</td>\n",
       "      <td>Casual Dining</td>\n",
       "      <td>North Indian, Mughlai, Chinese</td>\n",
       "      <td>800</td>\n",
       "      <td>Buffet</td>\n",
       "      <td>Banashankari</td>\n",
       "    </tr>\n",
       "    <tr>\n",
       "      <th>1</th>\n",
       "      <td>Spice Elephant</td>\n",
       "      <td>Yes</td>\n",
       "      <td>No</td>\n",
       "      <td>4.1/5</td>\n",
       "      <td>787</td>\n",
       "      <td>Banashankari</td>\n",
       "      <td>Casual Dining</td>\n",
       "      <td>Chinese, North Indian, Thai</td>\n",
       "      <td>800</td>\n",
       "      <td>Buffet</td>\n",
       "      <td>Banashankari</td>\n",
       "    </tr>\n",
       "    <tr>\n",
       "      <th>2</th>\n",
       "      <td>San Churro Cafe</td>\n",
       "      <td>Yes</td>\n",
       "      <td>No</td>\n",
       "      <td>3.8/5</td>\n",
       "      <td>918</td>\n",
       "      <td>Banashankari</td>\n",
       "      <td>Cafe, Casual Dining</td>\n",
       "      <td>Cafe, Mexican, Italian</td>\n",
       "      <td>800</td>\n",
       "      <td>Buffet</td>\n",
       "      <td>Banashankari</td>\n",
       "    </tr>\n",
       "    <tr>\n",
       "      <th>3</th>\n",
       "      <td>Addhuri Udupi Bhojana</td>\n",
       "      <td>No</td>\n",
       "      <td>No</td>\n",
       "      <td>3.7/5</td>\n",
       "      <td>88</td>\n",
       "      <td>Banashankari</td>\n",
       "      <td>Quick Bites</td>\n",
       "      <td>South Indian, North Indian</td>\n",
       "      <td>300</td>\n",
       "      <td>Buffet</td>\n",
       "      <td>Banashankari</td>\n",
       "    </tr>\n",
       "    <tr>\n",
       "      <th>4</th>\n",
       "      <td>Grand Village</td>\n",
       "      <td>No</td>\n",
       "      <td>No</td>\n",
       "      <td>3.8/5</td>\n",
       "      <td>166</td>\n",
       "      <td>Basavanagudi</td>\n",
       "      <td>Casual Dining</td>\n",
       "      <td>North Indian, Rajasthani</td>\n",
       "      <td>600</td>\n",
       "      <td>Buffet</td>\n",
       "      <td>Banashankari</td>\n",
       "    </tr>\n",
       "    <tr>\n",
       "      <th>...</th>\n",
       "      <td>...</td>\n",
       "      <td>...</td>\n",
       "      <td>...</td>\n",
       "      <td>...</td>\n",
       "      <td>...</td>\n",
       "      <td>...</td>\n",
       "      <td>...</td>\n",
       "      <td>...</td>\n",
       "      <td>...</td>\n",
       "      <td>...</td>\n",
       "      <td>...</td>\n",
       "    </tr>\n",
       "    <tr>\n",
       "      <th>51709</th>\n",
       "      <td>The Farm House Bar n Grill</td>\n",
       "      <td>No</td>\n",
       "      <td>No</td>\n",
       "      <td>3.7 /5</td>\n",
       "      <td>34</td>\n",
       "      <td>Whitefield</td>\n",
       "      <td>Casual Dining, Bar</td>\n",
       "      <td>North Indian, Continental</td>\n",
       "      <td>800</td>\n",
       "      <td>Pubs and bars</td>\n",
       "      <td>Whitefield</td>\n",
       "    </tr>\n",
       "    <tr>\n",
       "      <th>51711</th>\n",
       "      <td>Bhagini</td>\n",
       "      <td>No</td>\n",
       "      <td>No</td>\n",
       "      <td>2.5 /5</td>\n",
       "      <td>81</td>\n",
       "      <td>Whitefield</td>\n",
       "      <td>Casual Dining, Bar</td>\n",
       "      <td>Andhra, South Indian, Chinese, North Indian</td>\n",
       "      <td>800</td>\n",
       "      <td>Pubs and bars</td>\n",
       "      <td>Whitefield</td>\n",
       "    </tr>\n",
       "    <tr>\n",
       "      <th>51712</th>\n",
       "      <td>Best Brews - Four Points by Sheraton Bengaluru...</td>\n",
       "      <td>No</td>\n",
       "      <td>No</td>\n",
       "      <td>3.6 /5</td>\n",
       "      <td>27</td>\n",
       "      <td>Whitefield</td>\n",
       "      <td>Bar</td>\n",
       "      <td>Continental</td>\n",
       "      <td>1,500</td>\n",
       "      <td>Pubs and bars</td>\n",
       "      <td>Whitefield</td>\n",
       "    </tr>\n",
       "    <tr>\n",
       "      <th>51715</th>\n",
       "      <td>Chime - Sheraton Grand Bengaluru Whitefield Ho...</td>\n",
       "      <td>No</td>\n",
       "      <td>Yes</td>\n",
       "      <td>4.3 /5</td>\n",
       "      <td>236</td>\n",
       "      <td>ITPL Main Road, Whitefield</td>\n",
       "      <td>Bar</td>\n",
       "      <td>Finger Food</td>\n",
       "      <td>2,500</td>\n",
       "      <td>Pubs and bars</td>\n",
       "      <td>Whitefield</td>\n",
       "    </tr>\n",
       "    <tr>\n",
       "      <th>51716</th>\n",
       "      <td>The Nest - The Den Bengaluru</td>\n",
       "      <td>No</td>\n",
       "      <td>No</td>\n",
       "      <td>3.4 /5</td>\n",
       "      <td>13</td>\n",
       "      <td>ITPL Main Road, Whitefield</td>\n",
       "      <td>Bar, Casual Dining</td>\n",
       "      <td>Finger Food, North Indian, Continental</td>\n",
       "      <td>1,500</td>\n",
       "      <td>Pubs and bars</td>\n",
       "      <td>Whitefield</td>\n",
       "    </tr>\n",
       "  </tbody>\n",
       "</table>\n",
       "<p>43533 rows × 11 columns</p>\n",
       "</div>"
      ],
      "text/plain": [
       "                                                    name online_order  \\\n",
       "0                                                  Jalsa          Yes   \n",
       "1                                         Spice Elephant          Yes   \n",
       "2                                        San Churro Cafe          Yes   \n",
       "3                                  Addhuri Udupi Bhojana           No   \n",
       "4                                          Grand Village           No   \n",
       "...                                                  ...          ...   \n",
       "51709                         The Farm House Bar n Grill           No   \n",
       "51711                                            Bhagini           No   \n",
       "51712  Best Brews - Four Points by Sheraton Bengaluru...           No   \n",
       "51715  Chime - Sheraton Grand Bengaluru Whitefield Ho...           No   \n",
       "51716                       The Nest - The Den Bengaluru           No   \n",
       "\n",
       "      book_table    rate  votes                    location  \\\n",
       "0            Yes   4.1/5    775                Banashankari   \n",
       "1             No   4.1/5    787                Banashankari   \n",
       "2             No   3.8/5    918                Banashankari   \n",
       "3             No   3.7/5     88                Banashankari   \n",
       "4             No   3.8/5    166                Basavanagudi   \n",
       "...          ...     ...    ...                         ...   \n",
       "51709         No  3.7 /5     34                  Whitefield   \n",
       "51711         No  2.5 /5     81                  Whitefield   \n",
       "51712         No  3.6 /5     27                  Whitefield   \n",
       "51715        Yes  4.3 /5    236  ITPL Main Road, Whitefield   \n",
       "51716         No  3.4 /5     13  ITPL Main Road, Whitefield   \n",
       "\n",
       "                 rest_type                                     cuisines  \\\n",
       "0            Casual Dining               North Indian, Mughlai, Chinese   \n",
       "1            Casual Dining                  Chinese, North Indian, Thai   \n",
       "2      Cafe, Casual Dining                       Cafe, Mexican, Italian   \n",
       "3              Quick Bites                   South Indian, North Indian   \n",
       "4            Casual Dining                     North Indian, Rajasthani   \n",
       "...                    ...                                          ...   \n",
       "51709   Casual Dining, Bar                    North Indian, Continental   \n",
       "51711   Casual Dining, Bar  Andhra, South Indian, Chinese, North Indian   \n",
       "51712                  Bar                                  Continental   \n",
       "51715                  Bar                                  Finger Food   \n",
       "51716   Bar, Casual Dining       Finger Food, North Indian, Continental   \n",
       "\n",
       "      approx_cost(for two people) listed_in(type) listed_in(city)  \n",
       "0                             800          Buffet    Banashankari  \n",
       "1                             800          Buffet    Banashankari  \n",
       "2                             800          Buffet    Banashankari  \n",
       "3                             300          Buffet    Banashankari  \n",
       "4                             600          Buffet    Banashankari  \n",
       "...                           ...             ...             ...  \n",
       "51709                         800   Pubs and bars      Whitefield  \n",
       "51711                         800   Pubs and bars      Whitefield  \n",
       "51712                       1,500   Pubs and bars      Whitefield  \n",
       "51715                       2,500   Pubs and bars      Whitefield  \n",
       "51716                       1,500   Pubs and bars      Whitefield  \n",
       "\n",
       "[43533 rows x 11 columns]"
      ]
     },
     "execution_count": 12,
     "metadata": {},
     "output_type": "execute_result"
    }
   ],
   "source": [
    "df"
   ]
  },
  {
   "cell_type": "code",
   "execution_count": 13,
   "metadata": {},
   "outputs": [],
   "source": [
    "#drop duplicated\n",
    "df.drop_duplicates(inplace=True)"
   ]
  },
  {
   "cell_type": "code",
   "execution_count": 14,
   "metadata": {},
   "outputs": [
    {
     "data": {
      "text/html": [
       "<div>\n",
       "<style scoped>\n",
       "    .dataframe tbody tr th:only-of-type {\n",
       "        vertical-align: middle;\n",
       "    }\n",
       "\n",
       "    .dataframe tbody tr th {\n",
       "        vertical-align: top;\n",
       "    }\n",
       "\n",
       "    .dataframe thead th {\n",
       "        text-align: right;\n",
       "    }\n",
       "</style>\n",
       "<table border=\"1\" class=\"dataframe\">\n",
       "  <thead>\n",
       "    <tr style=\"text-align: right;\">\n",
       "      <th></th>\n",
       "      <th>name</th>\n",
       "      <th>online_order</th>\n",
       "      <th>book_table</th>\n",
       "      <th>rate</th>\n",
       "      <th>votes</th>\n",
       "      <th>location</th>\n",
       "      <th>rest_type</th>\n",
       "      <th>cuisines</th>\n",
       "      <th>approx_cost(for two people)</th>\n",
       "      <th>listed_in(type)</th>\n",
       "      <th>listed_in(city)</th>\n",
       "    </tr>\n",
       "  </thead>\n",
       "  <tbody>\n",
       "    <tr>\n",
       "      <th>0</th>\n",
       "      <td>Jalsa</td>\n",
       "      <td>Yes</td>\n",
       "      <td>Yes</td>\n",
       "      <td>4.1/5</td>\n",
       "      <td>775</td>\n",
       "      <td>Banashankari</td>\n",
       "      <td>Casual Dining</td>\n",
       "      <td>North Indian, Mughlai, Chinese</td>\n",
       "      <td>800</td>\n",
       "      <td>Buffet</td>\n",
       "      <td>Banashankari</td>\n",
       "    </tr>\n",
       "    <tr>\n",
       "      <th>1</th>\n",
       "      <td>Spice Elephant</td>\n",
       "      <td>Yes</td>\n",
       "      <td>No</td>\n",
       "      <td>4.1/5</td>\n",
       "      <td>787</td>\n",
       "      <td>Banashankari</td>\n",
       "      <td>Casual Dining</td>\n",
       "      <td>Chinese, North Indian, Thai</td>\n",
       "      <td>800</td>\n",
       "      <td>Buffet</td>\n",
       "      <td>Banashankari</td>\n",
       "    </tr>\n",
       "    <tr>\n",
       "      <th>2</th>\n",
       "      <td>San Churro Cafe</td>\n",
       "      <td>Yes</td>\n",
       "      <td>No</td>\n",
       "      <td>3.8/5</td>\n",
       "      <td>918</td>\n",
       "      <td>Banashankari</td>\n",
       "      <td>Cafe, Casual Dining</td>\n",
       "      <td>Cafe, Mexican, Italian</td>\n",
       "      <td>800</td>\n",
       "      <td>Buffet</td>\n",
       "      <td>Banashankari</td>\n",
       "    </tr>\n",
       "    <tr>\n",
       "      <th>3</th>\n",
       "      <td>Addhuri Udupi Bhojana</td>\n",
       "      <td>No</td>\n",
       "      <td>No</td>\n",
       "      <td>3.7/5</td>\n",
       "      <td>88</td>\n",
       "      <td>Banashankari</td>\n",
       "      <td>Quick Bites</td>\n",
       "      <td>South Indian, North Indian</td>\n",
       "      <td>300</td>\n",
       "      <td>Buffet</td>\n",
       "      <td>Banashankari</td>\n",
       "    </tr>\n",
       "    <tr>\n",
       "      <th>4</th>\n",
       "      <td>Grand Village</td>\n",
       "      <td>No</td>\n",
       "      <td>No</td>\n",
       "      <td>3.8/5</td>\n",
       "      <td>166</td>\n",
       "      <td>Basavanagudi</td>\n",
       "      <td>Casual Dining</td>\n",
       "      <td>North Indian, Rajasthani</td>\n",
       "      <td>600</td>\n",
       "      <td>Buffet</td>\n",
       "      <td>Banashankari</td>\n",
       "    </tr>\n",
       "    <tr>\n",
       "      <th>...</th>\n",
       "      <td>...</td>\n",
       "      <td>...</td>\n",
       "      <td>...</td>\n",
       "      <td>...</td>\n",
       "      <td>...</td>\n",
       "      <td>...</td>\n",
       "      <td>...</td>\n",
       "      <td>...</td>\n",
       "      <td>...</td>\n",
       "      <td>...</td>\n",
       "      <td>...</td>\n",
       "    </tr>\n",
       "    <tr>\n",
       "      <th>51709</th>\n",
       "      <td>The Farm House Bar n Grill</td>\n",
       "      <td>No</td>\n",
       "      <td>No</td>\n",
       "      <td>3.7 /5</td>\n",
       "      <td>34</td>\n",
       "      <td>Whitefield</td>\n",
       "      <td>Casual Dining, Bar</td>\n",
       "      <td>North Indian, Continental</td>\n",
       "      <td>800</td>\n",
       "      <td>Pubs and bars</td>\n",
       "      <td>Whitefield</td>\n",
       "    </tr>\n",
       "    <tr>\n",
       "      <th>51711</th>\n",
       "      <td>Bhagini</td>\n",
       "      <td>No</td>\n",
       "      <td>No</td>\n",
       "      <td>2.5 /5</td>\n",
       "      <td>81</td>\n",
       "      <td>Whitefield</td>\n",
       "      <td>Casual Dining, Bar</td>\n",
       "      <td>Andhra, South Indian, Chinese, North Indian</td>\n",
       "      <td>800</td>\n",
       "      <td>Pubs and bars</td>\n",
       "      <td>Whitefield</td>\n",
       "    </tr>\n",
       "    <tr>\n",
       "      <th>51712</th>\n",
       "      <td>Best Brews - Four Points by Sheraton Bengaluru...</td>\n",
       "      <td>No</td>\n",
       "      <td>No</td>\n",
       "      <td>3.6 /5</td>\n",
       "      <td>27</td>\n",
       "      <td>Whitefield</td>\n",
       "      <td>Bar</td>\n",
       "      <td>Continental</td>\n",
       "      <td>1,500</td>\n",
       "      <td>Pubs and bars</td>\n",
       "      <td>Whitefield</td>\n",
       "    </tr>\n",
       "    <tr>\n",
       "      <th>51715</th>\n",
       "      <td>Chime - Sheraton Grand Bengaluru Whitefield Ho...</td>\n",
       "      <td>No</td>\n",
       "      <td>Yes</td>\n",
       "      <td>4.3 /5</td>\n",
       "      <td>236</td>\n",
       "      <td>ITPL Main Road, Whitefield</td>\n",
       "      <td>Bar</td>\n",
       "      <td>Finger Food</td>\n",
       "      <td>2,500</td>\n",
       "      <td>Pubs and bars</td>\n",
       "      <td>Whitefield</td>\n",
       "    </tr>\n",
       "    <tr>\n",
       "      <th>51716</th>\n",
       "      <td>The Nest - The Den Bengaluru</td>\n",
       "      <td>No</td>\n",
       "      <td>No</td>\n",
       "      <td>3.4 /5</td>\n",
       "      <td>13</td>\n",
       "      <td>ITPL Main Road, Whitefield</td>\n",
       "      <td>Bar, Casual Dining</td>\n",
       "      <td>Finger Food, North Indian, Continental</td>\n",
       "      <td>1,500</td>\n",
       "      <td>Pubs and bars</td>\n",
       "      <td>Whitefield</td>\n",
       "    </tr>\n",
       "  </tbody>\n",
       "</table>\n",
       "<p>43447 rows × 11 columns</p>\n",
       "</div>"
      ],
      "text/plain": [
       "                                                    name online_order  \\\n",
       "0                                                  Jalsa          Yes   \n",
       "1                                         Spice Elephant          Yes   \n",
       "2                                        San Churro Cafe          Yes   \n",
       "3                                  Addhuri Udupi Bhojana           No   \n",
       "4                                          Grand Village           No   \n",
       "...                                                  ...          ...   \n",
       "51709                         The Farm House Bar n Grill           No   \n",
       "51711                                            Bhagini           No   \n",
       "51712  Best Brews - Four Points by Sheraton Bengaluru...           No   \n",
       "51715  Chime - Sheraton Grand Bengaluru Whitefield Ho...           No   \n",
       "51716                       The Nest - The Den Bengaluru           No   \n",
       "\n",
       "      book_table    rate  votes                    location  \\\n",
       "0            Yes   4.1/5    775                Banashankari   \n",
       "1             No   4.1/5    787                Banashankari   \n",
       "2             No   3.8/5    918                Banashankari   \n",
       "3             No   3.7/5     88                Banashankari   \n",
       "4             No   3.8/5    166                Basavanagudi   \n",
       "...          ...     ...    ...                         ...   \n",
       "51709         No  3.7 /5     34                  Whitefield   \n",
       "51711         No  2.5 /5     81                  Whitefield   \n",
       "51712         No  3.6 /5     27                  Whitefield   \n",
       "51715        Yes  4.3 /5    236  ITPL Main Road, Whitefield   \n",
       "51716         No  3.4 /5     13  ITPL Main Road, Whitefield   \n",
       "\n",
       "                 rest_type                                     cuisines  \\\n",
       "0            Casual Dining               North Indian, Mughlai, Chinese   \n",
       "1            Casual Dining                  Chinese, North Indian, Thai   \n",
       "2      Cafe, Casual Dining                       Cafe, Mexican, Italian   \n",
       "3              Quick Bites                   South Indian, North Indian   \n",
       "4            Casual Dining                     North Indian, Rajasthani   \n",
       "...                    ...                                          ...   \n",
       "51709   Casual Dining, Bar                    North Indian, Continental   \n",
       "51711   Casual Dining, Bar  Andhra, South Indian, Chinese, North Indian   \n",
       "51712                  Bar                                  Continental   \n",
       "51715                  Bar                                  Finger Food   \n",
       "51716   Bar, Casual Dining       Finger Food, North Indian, Continental   \n",
       "\n",
       "      approx_cost(for two people) listed_in(type) listed_in(city)  \n",
       "0                             800          Buffet    Banashankari  \n",
       "1                             800          Buffet    Banashankari  \n",
       "2                             800          Buffet    Banashankari  \n",
       "3                             300          Buffet    Banashankari  \n",
       "4                             600          Buffet    Banashankari  \n",
       "...                           ...             ...             ...  \n",
       "51709                         800   Pubs and bars      Whitefield  \n",
       "51711                         800   Pubs and bars      Whitefield  \n",
       "51712                       1,500   Pubs and bars      Whitefield  \n",
       "51715                       2,500   Pubs and bars      Whitefield  \n",
       "51716                       1,500   Pubs and bars      Whitefield  \n",
       "\n",
       "[43447 rows x 11 columns]"
      ]
     },
     "execution_count": 14,
     "metadata": {},
     "output_type": "execute_result"
    }
   ],
   "source": [
    "df"
   ]
  },
  {
   "cell_type": "code",
   "execution_count": 15,
   "metadata": {},
   "outputs": [
    {
     "data": {
      "text/plain": [
       "name                           0\n",
       "online_order                   0\n",
       "book_table                     0\n",
       "rate                           0\n",
       "votes                          0\n",
       "location                       0\n",
       "rest_type                      0\n",
       "cuisines                       0\n",
       "approx_cost(for two people)    0\n",
       "listed_in(type)                0\n",
       "listed_in(city)                0\n",
       "dtype: int64"
      ]
     },
     "execution_count": 15,
     "metadata": {},
     "output_type": "execute_result"
    }
   ],
   "source": [
    "df.isnull().sum()"
   ]
  },
  {
   "cell_type": "markdown",
   "metadata": {},
   "source": [
    "# univariate analysis"
   ]
  },
  {
   "cell_type": "code",
   "execution_count": 16,
   "metadata": {},
   "outputs": [
    {
     "data": {
      "text/plain": [
       "Cafe Coffee Day                   89\n",
       "Onesta                            85\n",
       "Empire Restaurant                 71\n",
       "Five Star Chicken                 68\n",
       "Kanti Sweets                      68\n",
       "                                  ..\n",
       "Pan's Aroma                        1\n",
       "Shakthi Bar and Restaurant         1\n",
       "Samrat Family Restaurant & Bar     1\n",
       "Dil Se Punjabi                     1\n",
       "SeeYa Restaurant                   1\n",
       "Name: name, Length: 7112, dtype: int64"
      ]
     },
     "execution_count": 16,
     "metadata": {},
     "output_type": "execute_result"
    }
   ],
   "source": [
    "df['name'].value_counts()"
   ]
  },
  {
   "cell_type": "code",
   "execution_count": 17,
   "metadata": {},
   "outputs": [
    {
     "data": {
      "text/plain": [
       "Yes    28136\n",
       "No     15311\n",
       "Name: online_order, dtype: int64"
      ]
     },
     "execution_count": 17,
     "metadata": {},
     "output_type": "execute_result"
    }
   ],
   "source": [
    "df['online_order'].value_counts()"
   ]
  },
  {
   "cell_type": "code",
   "execution_count": 18,
   "metadata": {},
   "outputs": [
    {
     "data": {
      "text/plain": [
       "No     37047\n",
       "Yes     6400\n",
       "Name: book_table, dtype: int64"
      ]
     },
     "execution_count": 18,
     "metadata": {},
     "output_type": "execute_result"
    }
   ],
   "source": [
    "df['book_table'].value_counts()"
   ]
  },
  {
   "cell_type": "code",
   "execution_count": 19,
   "metadata": {},
   "outputs": [
    {
     "data": {
      "text/plain": [
       "NEW       2192\n",
       "3.9/5     2088\n",
       "3.7/5     2006\n",
       "3.8/5     1997\n",
       "3.9 /5    1865\n",
       "          ... \n",
       "2.2 /5       7\n",
       "2.0 /5       7\n",
       "2.0/5        4\n",
       "1.8 /5       3\n",
       "1.8/5        2\n",
       "Name: rate, Length: 64, dtype: int64"
      ]
     },
     "execution_count": 19,
     "metadata": {},
     "output_type": "execute_result"
    }
   ],
   "source": [
    "df['rate'].value_counts()"
   ]
  },
  {
   "cell_type": "code",
   "execution_count": 20,
   "metadata": {},
   "outputs": [
    {
     "data": {
      "text/plain": [
       "(0, 16832)"
      ]
     },
     "execution_count": 20,
     "metadata": {},
     "output_type": "execute_result"
    }
   ],
   "source": [
    "df['votes'].min(),df['votes'].max()"
   ]
  },
  {
   "cell_type": "code",
   "execution_count": 21,
   "metadata": {},
   "outputs": [
    {
     "data": {
      "text/plain": [
       "array(['Casual Dining', 'Cafe, Casual Dining', 'Quick Bites',\n",
       "       'Casual Dining, Cafe', 'Cafe', 'Quick Bites, Cafe',\n",
       "       'Cafe, Quick Bites', 'Delivery', 'Mess', 'Dessert Parlor',\n",
       "       'Bakery, Dessert Parlor', 'Pub', 'Bakery', 'Takeaway, Delivery',\n",
       "       'Fine Dining', 'Beverage Shop', 'Sweet Shop', 'Bar',\n",
       "       'Dessert Parlor, Sweet Shop', 'Bakery, Quick Bites',\n",
       "       'Sweet Shop, Quick Bites', 'Kiosk', 'Food Truck',\n",
       "       'Quick Bites, Dessert Parlor', 'Beverage Shop, Quick Bites',\n",
       "       'Beverage Shop, Dessert Parlor', 'Takeaway', 'Pub, Casual Dining',\n",
       "       'Casual Dining, Bar', 'Dessert Parlor, Beverage Shop',\n",
       "       'Quick Bites, Bakery', 'Microbrewery, Casual Dining', 'Lounge',\n",
       "       'Bar, Casual Dining', 'Food Court', 'Cafe, Bakery', 'Dhaba',\n",
       "       'Quick Bites, Sweet Shop', 'Microbrewery',\n",
       "       'Food Court, Quick Bites', 'Quick Bites, Beverage Shop',\n",
       "       'Pub, Bar', 'Casual Dining, Pub', 'Lounge, Bar',\n",
       "       'Dessert Parlor, Quick Bites', 'Food Court, Dessert Parlor',\n",
       "       'Casual Dining, Sweet Shop', 'Food Court, Casual Dining',\n",
       "       'Casual Dining, Microbrewery', 'Lounge, Casual Dining',\n",
       "       'Cafe, Food Court', 'Beverage Shop, Cafe', 'Cafe, Dessert Parlor',\n",
       "       'Dessert Parlor, Cafe', 'Dessert Parlor, Bakery',\n",
       "       'Microbrewery, Pub', 'Bakery, Food Court', 'Club',\n",
       "       'Quick Bites, Food Court', 'Bakery, Cafe', 'Pub, Cafe',\n",
       "       'Casual Dining, Irani Cafee', 'Fine Dining, Lounge',\n",
       "       'Bar, Quick Bites', 'Confectionery', 'Pub, Microbrewery',\n",
       "       'Microbrewery, Lounge', 'Fine Dining, Microbrewery',\n",
       "       'Fine Dining, Bar', 'Dessert Parlor, Kiosk', 'Bhojanalya',\n",
       "       'Casual Dining, Quick Bites', 'Cafe, Bar', 'Casual Dining, Lounge',\n",
       "       'Bakery, Beverage Shop', 'Microbrewery, Bar', 'Cafe, Lounge',\n",
       "       'Bar, Pub', 'Lounge, Cafe', 'Club, Casual Dining',\n",
       "       'Quick Bites, Mess', 'Quick Bites, Meat Shop',\n",
       "       'Quick Bites, Kiosk', 'Lounge, Microbrewery',\n",
       "       'Food Court, Beverage Shop', 'Dessert Parlor, Food Court',\n",
       "       'Bar, Lounge'], dtype=object)"
      ]
     },
     "execution_count": 21,
     "metadata": {},
     "output_type": "execute_result"
    }
   ],
   "source": [
    "df['rest_type'].unique()"
   ]
  },
  {
   "cell_type": "code",
   "execution_count": 22,
   "metadata": {},
   "outputs": [
    {
     "data": {
      "text/plain": [
       "87"
      ]
     },
     "execution_count": 22,
     "metadata": {},
     "output_type": "execute_result"
    }
   ],
   "source": [
    "len(df['rest_type'].unique())"
   ]
  },
  {
   "cell_type": "code",
   "execution_count": 23,
   "metadata": {},
   "outputs": [
    {
     "data": {
      "text/plain": [
       "North Indian                                                           2241\n",
       "North Indian, Chinese                                                  2029\n",
       "South Indian                                                           1317\n",
       "Bakery, Desserts                                                        642\n",
       "Biryani                                                                 632\n",
       "                                                                       ... \n",
       "Chinese, Bakery                                                           1\n",
       "South Indian, Fast Food, Chinese                                          1\n",
       "Asian, Continental, Healthy Food                                          1\n",
       "South Indian, North Indian, Chinese, Desserts, Fast Food, Ice Cream       1\n",
       "North Indian, Chinese, Arabian, Momos                                     1\n",
       "Name: cuisines, Length: 2487, dtype: int64"
      ]
     },
     "execution_count": 23,
     "metadata": {},
     "output_type": "execute_result"
    }
   ],
   "source": [
    "df['cuisines'].value_counts()"
   ]
  },
  {
   "cell_type": "code",
   "execution_count": 24,
   "metadata": {},
   "outputs": [
    {
     "data": {
      "text/plain": [
       "array(['North Indian, Mughlai, Chinese', 'Chinese, North Indian, Thai',\n",
       "       'Cafe, Mexican, Italian', ..., 'Tibetan, Nepalese',\n",
       "       'North Indian, Street Food, Biryani',\n",
       "       'North Indian, Chinese, Arabian, Momos'], dtype=object)"
      ]
     },
     "execution_count": 24,
     "metadata": {},
     "output_type": "execute_result"
    }
   ],
   "source": [
    "df['cuisines'].unique()"
   ]
  },
  {
   "cell_type": "code",
   "execution_count": 25,
   "metadata": {},
   "outputs": [],
   "source": [
    "df=df.rename(columns={'approx_cost(for two people)':'cost','listed_in(type)':'list_type','listed_in(city)':'city'})"
   ]
  },
  {
   "cell_type": "code",
   "execution_count": 26,
   "metadata": {},
   "outputs": [
    {
     "data": {
      "text/plain": [
       "Delivery              21605\n",
       "Dine-out              14816\n",
       "Desserts               2849\n",
       "Cafes                  1589\n",
       "Drinks & nightlife     1066\n",
       "Buffet                  864\n",
       "Pubs and bars           658\n",
       "Name: list_type, dtype: int64"
      ]
     },
     "execution_count": 26,
     "metadata": {},
     "output_type": "execute_result"
    }
   ],
   "source": [
    "df['list_type'].value_counts()"
   ]
  },
  {
   "cell_type": "code",
   "execution_count": 27,
   "metadata": {},
   "outputs": [
    {
     "data": {
      "text/plain": [
       "BTM                      2745\n",
       "Koramangala 7th Block    2474\n",
       "Koramangala 5th Block    2374\n",
       "Koramangala 4th Block    2352\n",
       "Koramangala 6th Block    2252\n",
       "Jayanagar                1993\n",
       "JP Nagar                 1763\n",
       "Indiranagar              1653\n",
       "Church Street            1551\n",
       "MG Road                  1550\n",
       "Brigade Road             1536\n",
       "Lavelle Road             1490\n",
       "HSR                      1444\n",
       "Residency Road           1377\n",
       "Marathahalli             1345\n",
       "Bannerghatta Road        1323\n",
       "Brookefield              1249\n",
       "Whitefield               1249\n",
       "Old Airport Road         1225\n",
       "Basavanagudi             1140\n",
       "Kalyan Nagar             1068\n",
       "Kammanahalli             1064\n",
       "Sarjapur Road            1054\n",
       "Bellandur                1026\n",
       "Frazer Town               993\n",
       "Malleshwaram              974\n",
       "Electronic City           938\n",
       "Rajajinagar               895\n",
       "Banashankari              766\n",
       "New BEL Road              584\n",
       "Name: city, dtype: int64"
      ]
     },
     "execution_count": 27,
     "metadata": {},
     "output_type": "execute_result"
    }
   ],
   "source": [
    "df['city'].value_counts()"
   ]
  },
  {
   "cell_type": "code",
   "execution_count": 28,
   "metadata": {},
   "outputs": [
    {
     "data": {
      "text/plain": [
       "BTM                      4201\n",
       "Koramangala 5th Block    2356\n",
       "HSR                      2100\n",
       "Indiranagar              1882\n",
       "JP Nagar                 1841\n",
       "                         ... \n",
       "West Bangalore              5\n",
       "Yelahanka                   4\n",
       "Rajarajeshwari Nagar        2\n",
       "Nagarbhavi                  1\n",
       "Peenya                      1\n",
       "Name: location, Length: 92, dtype: int64"
      ]
     },
     "execution_count": 28,
     "metadata": {},
     "output_type": "execute_result"
    }
   ],
   "source": [
    "df['location'].value_counts()"
   ]
  },
  {
   "cell_type": "code",
   "execution_count": 29,
   "metadata": {},
   "outputs": [
    {
     "data": {
      "text/plain": [
       "92"
      ]
     },
     "execution_count": 29,
     "metadata": {},
     "output_type": "execute_result"
    }
   ],
   "source": [
    "len(df['location'].value_counts())"
   ]
  },
  {
   "cell_type": "code",
   "execution_count": 30,
   "metadata": {},
   "outputs": [
    {
     "data": {
      "text/plain": [
       "30"
      ]
     },
     "execution_count": 30,
     "metadata": {},
     "output_type": "execute_result"
    }
   ],
   "source": [
    "len(df['city'].value_counts())"
   ]
  },
  {
   "cell_type": "code",
   "execution_count": 31,
   "metadata": {},
   "outputs": [
    {
     "data": {
      "text/plain": [
       "2487"
      ]
     },
     "execution_count": 31,
     "metadata": {},
     "output_type": "execute_result"
    }
   ],
   "source": [
    "len(df['cuisines'].value_counts())"
   ]
  },
  {
   "cell_type": "code",
   "execution_count": 32,
   "metadata": {},
   "outputs": [
    {
     "data": {
      "text/plain": [
       "dtype('O')"
      ]
     },
     "execution_count": 32,
     "metadata": {},
     "output_type": "execute_result"
    }
   ],
   "source": [
    "df['rate'].dtype"
   ]
  },
  {
   "cell_type": "code",
   "execution_count": 33,
   "metadata": {},
   "outputs": [
    {
     "data": {
      "text/plain": [
       "2487"
      ]
     },
     "execution_count": 33,
     "metadata": {},
     "output_type": "execute_result"
    }
   ],
   "source": [
    " df['cuisines'].nunique()"
   ]
  },
  {
   "cell_type": "markdown",
   "metadata": {},
   "source": [
    "# preprocessing"
   ]
  },
  {
   "cell_type": "code",
   "execution_count": 34,
   "metadata": {},
   "outputs": [
    {
     "data": {
      "text/plain": [
       "['4.1/5',\n",
       " '3.8/5',\n",
       " '3.7/5',\n",
       " '3.6/5',\n",
       " '4.6/5',\n",
       " '4.0/5',\n",
       " '4.2/5',\n",
       " '3.9/5',\n",
       " '3.1/5',\n",
       " '3.0/5',\n",
       " '3.2/5',\n",
       " '3.3/5',\n",
       " '2.8/5',\n",
       " '4.4/5',\n",
       " '4.3/5',\n",
       " 'NEW',\n",
       " '2.9/5',\n",
       " '3.5/5',\n",
       " '2.6/5',\n",
       " '3.8 /5',\n",
       " '3.4/5',\n",
       " '4.5/5',\n",
       " '2.5/5',\n",
       " '2.7/5',\n",
       " '4.7/5',\n",
       " '2.4/5',\n",
       " '2.2/5',\n",
       " '2.3/5',\n",
       " '3.4 /5',\n",
       " '-',\n",
       " '3.6 /5',\n",
       " '4.8/5',\n",
       " '3.9 /5',\n",
       " '4.2 /5',\n",
       " '4.0 /5',\n",
       " '4.1 /5',\n",
       " '3.7 /5',\n",
       " '3.1 /5',\n",
       " '2.9 /5',\n",
       " '3.3 /5',\n",
       " '2.8 /5',\n",
       " '3.5 /5',\n",
       " '2.7 /5',\n",
       " '2.5 /5',\n",
       " '3.2 /5',\n",
       " '2.6 /5',\n",
       " '4.5 /5',\n",
       " '4.3 /5',\n",
       " '4.4 /5',\n",
       " '4.9/5',\n",
       " '2.1/5',\n",
       " '2.0/5',\n",
       " '1.8/5',\n",
       " '4.6 /5',\n",
       " '4.9 /5',\n",
       " '3.0 /5',\n",
       " '4.8 /5',\n",
       " '2.3 /5',\n",
       " '4.7 /5',\n",
       " '2.4 /5',\n",
       " '2.1 /5',\n",
       " '2.2 /5',\n",
       " '2.0 /5',\n",
       " '1.8 /5']"
      ]
     },
     "execution_count": 34,
     "metadata": {},
     "output_type": "execute_result"
    }
   ],
   "source": [
    "df['rate'].unique().tolist()"
   ]
  },
  {
   "cell_type": "code",
   "execution_count": 35,
   "metadata": {},
   "outputs": [
    {
     "data": {
      "text/html": [
       "<div>\n",
       "<style scoped>\n",
       "    .dataframe tbody tr th:only-of-type {\n",
       "        vertical-align: middle;\n",
       "    }\n",
       "\n",
       "    .dataframe tbody tr th {\n",
       "        vertical-align: top;\n",
       "    }\n",
       "\n",
       "    .dataframe thead th {\n",
       "        text-align: right;\n",
       "    }\n",
       "</style>\n",
       "<table border=\"1\" class=\"dataframe\">\n",
       "  <thead>\n",
       "    <tr style=\"text-align: right;\">\n",
       "      <th></th>\n",
       "      <th>name</th>\n",
       "      <th>online_order</th>\n",
       "      <th>book_table</th>\n",
       "      <th>rate</th>\n",
       "      <th>votes</th>\n",
       "      <th>location</th>\n",
       "      <th>rest_type</th>\n",
       "      <th>cuisines</th>\n",
       "      <th>cost</th>\n",
       "      <th>list_type</th>\n",
       "      <th>city</th>\n",
       "    </tr>\n",
       "  </thead>\n",
       "  <tbody>\n",
       "    <tr>\n",
       "      <th>3068</th>\n",
       "      <td>House of Tasty Food</td>\n",
       "      <td>No</td>\n",
       "      <td>No</td>\n",
       "      <td>-</td>\n",
       "      <td>0</td>\n",
       "      <td>Wilson Garden</td>\n",
       "      <td>Quick Bites</td>\n",
       "      <td>North Indian</td>\n",
       "      <td>400</td>\n",
       "      <td>Delivery</td>\n",
       "      <td>Basavanagudi</td>\n",
       "    </tr>\n",
       "    <tr>\n",
       "      <th>3373</th>\n",
       "      <td>Right Pizza</td>\n",
       "      <td>Yes</td>\n",
       "      <td>No</td>\n",
       "      <td>-</td>\n",
       "      <td>0</td>\n",
       "      <td>Basavanagudi</td>\n",
       "      <td>Quick Bites</td>\n",
       "      <td>Pizza</td>\n",
       "      <td>300</td>\n",
       "      <td>Dine-out</td>\n",
       "      <td>Basavanagudi</td>\n",
       "    </tr>\n",
       "    <tr>\n",
       "      <th>3378</th>\n",
       "      <td>Mezban Family Restaurant</td>\n",
       "      <td>Yes</td>\n",
       "      <td>No</td>\n",
       "      <td>-</td>\n",
       "      <td>0</td>\n",
       "      <td>Basavanagudi</td>\n",
       "      <td>Quick Bites</td>\n",
       "      <td>Chinese, North Indian</td>\n",
       "      <td>300</td>\n",
       "      <td>Dine-out</td>\n",
       "      <td>Basavanagudi</td>\n",
       "    </tr>\n",
       "    <tr>\n",
       "      <th>3387</th>\n",
       "      <td>Mota Bawarchi</td>\n",
       "      <td>No</td>\n",
       "      <td>No</td>\n",
       "      <td>-</td>\n",
       "      <td>0</td>\n",
       "      <td>Basavanagudi</td>\n",
       "      <td>Quick Bites</td>\n",
       "      <td>North Indian, Biryani, Fast Food</td>\n",
       "      <td>300</td>\n",
       "      <td>Dine-out</td>\n",
       "      <td>Basavanagudi</td>\n",
       "    </tr>\n",
       "    <tr>\n",
       "      <th>3396</th>\n",
       "      <td>Aahar Cafe</td>\n",
       "      <td>No</td>\n",
       "      <td>No</td>\n",
       "      <td>-</td>\n",
       "      <td>0</td>\n",
       "      <td>Basavanagudi</td>\n",
       "      <td>Quick Bites</td>\n",
       "      <td>South Indian</td>\n",
       "      <td>100</td>\n",
       "      <td>Dine-out</td>\n",
       "      <td>Basavanagudi</td>\n",
       "    </tr>\n",
       "    <tr>\n",
       "      <th>...</th>\n",
       "      <td>...</td>\n",
       "      <td>...</td>\n",
       "      <td>...</td>\n",
       "      <td>...</td>\n",
       "      <td>...</td>\n",
       "      <td>...</td>\n",
       "      <td>...</td>\n",
       "      <td>...</td>\n",
       "      <td>...</td>\n",
       "      <td>...</td>\n",
       "      <td>...</td>\n",
       "    </tr>\n",
       "    <tr>\n",
       "      <th>33454</th>\n",
       "      <td>Deepam Tiffins</td>\n",
       "      <td>No</td>\n",
       "      <td>No</td>\n",
       "      <td>-</td>\n",
       "      <td>0</td>\n",
       "      <td>BTM</td>\n",
       "      <td>Quick Bites</td>\n",
       "      <td>South Indian, North Indian, Chinese</td>\n",
       "      <td>300</td>\n",
       "      <td>Delivery</td>\n",
       "      <td>Koramangala 6th Block</td>\n",
       "    </tr>\n",
       "    <tr>\n",
       "      <th>33463</th>\n",
       "      <td>Hotel Orchid</td>\n",
       "      <td>No</td>\n",
       "      <td>No</td>\n",
       "      <td>-</td>\n",
       "      <td>0</td>\n",
       "      <td>BTM</td>\n",
       "      <td>Casual Dining</td>\n",
       "      <td>North Indian, South Indian, Chinese, Kerala</td>\n",
       "      <td>500</td>\n",
       "      <td>Delivery</td>\n",
       "      <td>Koramangala 6th Block</td>\n",
       "    </tr>\n",
       "    <tr>\n",
       "      <th>45646</th>\n",
       "      <td>Sri Udupi</td>\n",
       "      <td>Yes</td>\n",
       "      <td>No</td>\n",
       "      <td>-</td>\n",
       "      <td>0</td>\n",
       "      <td>Old Airport Road</td>\n",
       "      <td>Quick Bites</td>\n",
       "      <td>South Indian, North Indian, Chinese, Beverages</td>\n",
       "      <td>400</td>\n",
       "      <td>Dine-out</td>\n",
       "      <td>Old Airport Road</td>\n",
       "    </tr>\n",
       "    <tr>\n",
       "      <th>45647</th>\n",
       "      <td>Frozen Bite</td>\n",
       "      <td>Yes</td>\n",
       "      <td>No</td>\n",
       "      <td>-</td>\n",
       "      <td>0</td>\n",
       "      <td>Old Airport Road</td>\n",
       "      <td>Beverage Shop</td>\n",
       "      <td>Beverages</td>\n",
       "      <td>250</td>\n",
       "      <td>Dine-out</td>\n",
       "      <td>Old Airport Road</td>\n",
       "    </tr>\n",
       "    <tr>\n",
       "      <th>48139</th>\n",
       "      <td>Dad's Coffee Club</td>\n",
       "      <td>No</td>\n",
       "      <td>No</td>\n",
       "      <td>-</td>\n",
       "      <td>0</td>\n",
       "      <td>Residency Road</td>\n",
       "      <td>Cafe</td>\n",
       "      <td>North Indian, South American, Cafe</td>\n",
       "      <td>200</td>\n",
       "      <td>Dine-out</td>\n",
       "      <td>Residency Road</td>\n",
       "    </tr>\n",
       "  </tbody>\n",
       "</table>\n",
       "<p>65 rows × 11 columns</p>\n",
       "</div>"
      ],
      "text/plain": [
       "                           name online_order book_table rate  votes  \\\n",
       "3068        House of Tasty Food           No         No    -      0   \n",
       "3373                Right Pizza          Yes         No    -      0   \n",
       "3378   Mezban Family Restaurant          Yes         No    -      0   \n",
       "3387              Mota Bawarchi           No         No    -      0   \n",
       "3396                 Aahar Cafe           No         No    -      0   \n",
       "...                         ...          ...        ...  ...    ...   \n",
       "33454            Deepam Tiffins           No         No    -      0   \n",
       "33463              Hotel Orchid           No         No    -      0   \n",
       "45646                 Sri Udupi          Yes         No    -      0   \n",
       "45647               Frozen Bite          Yes         No    -      0   \n",
       "48139         Dad's Coffee Club           No         No    -      0   \n",
       "\n",
       "               location      rest_type  \\\n",
       "3068      Wilson Garden    Quick Bites   \n",
       "3373       Basavanagudi    Quick Bites   \n",
       "3378       Basavanagudi    Quick Bites   \n",
       "3387       Basavanagudi    Quick Bites   \n",
       "3396       Basavanagudi    Quick Bites   \n",
       "...                 ...            ...   \n",
       "33454               BTM    Quick Bites   \n",
       "33463               BTM  Casual Dining   \n",
       "45646  Old Airport Road    Quick Bites   \n",
       "45647  Old Airport Road  Beverage Shop   \n",
       "48139    Residency Road           Cafe   \n",
       "\n",
       "                                             cuisines cost list_type  \\\n",
       "3068                                     North Indian  400  Delivery   \n",
       "3373                                            Pizza  300  Dine-out   \n",
       "3378                            Chinese, North Indian  300  Dine-out   \n",
       "3387                 North Indian, Biryani, Fast Food  300  Dine-out   \n",
       "3396                                     South Indian  100  Dine-out   \n",
       "...                                               ...  ...       ...   \n",
       "33454             South Indian, North Indian, Chinese  300  Delivery   \n",
       "33463     North Indian, South Indian, Chinese, Kerala  500  Delivery   \n",
       "45646  South Indian, North Indian, Chinese, Beverages  400  Dine-out   \n",
       "45647                                       Beverages  250  Dine-out   \n",
       "48139              North Indian, South American, Cafe  200  Dine-out   \n",
       "\n",
       "                        city  \n",
       "3068            Basavanagudi  \n",
       "3373            Basavanagudi  \n",
       "3378            Basavanagudi  \n",
       "3387            Basavanagudi  \n",
       "3396            Basavanagudi  \n",
       "...                      ...  \n",
       "33454  Koramangala 6th Block  \n",
       "33463  Koramangala 6th Block  \n",
       "45646       Old Airport Road  \n",
       "45647       Old Airport Road  \n",
       "48139         Residency Road  \n",
       "\n",
       "[65 rows x 11 columns]"
      ]
     },
     "execution_count": 35,
     "metadata": {},
     "output_type": "execute_result"
    }
   ],
   "source": [
    "df[df['rate']=='-']"
   ]
  },
  {
   "cell_type": "code",
   "execution_count": 36,
   "metadata": {},
   "outputs": [
    {
     "data": {
      "text/html": [
       "<div>\n",
       "<style scoped>\n",
       "    .dataframe tbody tr th:only-of-type {\n",
       "        vertical-align: middle;\n",
       "    }\n",
       "\n",
       "    .dataframe tbody tr th {\n",
       "        vertical-align: top;\n",
       "    }\n",
       "\n",
       "    .dataframe thead th {\n",
       "        text-align: right;\n",
       "    }\n",
       "</style>\n",
       "<table border=\"1\" class=\"dataframe\">\n",
       "  <thead>\n",
       "    <tr style=\"text-align: right;\">\n",
       "      <th></th>\n",
       "      <th>name</th>\n",
       "      <th>online_order</th>\n",
       "      <th>book_table</th>\n",
       "      <th>rate</th>\n",
       "      <th>votes</th>\n",
       "      <th>location</th>\n",
       "      <th>rest_type</th>\n",
       "      <th>cuisines</th>\n",
       "      <th>cost</th>\n",
       "      <th>list_type</th>\n",
       "      <th>city</th>\n",
       "    </tr>\n",
       "  </thead>\n",
       "  <tbody>\n",
       "    <tr>\n",
       "      <th>72</th>\n",
       "      <td>Spicy Tandoor</td>\n",
       "      <td>No</td>\n",
       "      <td>No</td>\n",
       "      <td>NEW</td>\n",
       "      <td>0</td>\n",
       "      <td>Banashankari</td>\n",
       "      <td>Quick Bites</td>\n",
       "      <td>North Indian</td>\n",
       "      <td>150</td>\n",
       "      <td>Delivery</td>\n",
       "      <td>Banashankari</td>\n",
       "    </tr>\n",
       "    <tr>\n",
       "      <th>75</th>\n",
       "      <td>Om Sri Vinayaka Chats</td>\n",
       "      <td>No</td>\n",
       "      <td>No</td>\n",
       "      <td>NEW</td>\n",
       "      <td>0</td>\n",
       "      <td>Banashankari</td>\n",
       "      <td>Takeaway, Delivery</td>\n",
       "      <td>Street Food, Fast Food</td>\n",
       "      <td>500</td>\n",
       "      <td>Delivery</td>\n",
       "      <td>Banashankari</td>\n",
       "    </tr>\n",
       "    <tr>\n",
       "      <th>110</th>\n",
       "      <td>Hari Super Sandwich</td>\n",
       "      <td>No</td>\n",
       "      <td>No</td>\n",
       "      <td>NEW</td>\n",
       "      <td>0</td>\n",
       "      <td>Banashankari</td>\n",
       "      <td>Takeaway, Delivery</td>\n",
       "      <td>Sandwich, Pizza, Beverages</td>\n",
       "      <td>200</td>\n",
       "      <td>Delivery</td>\n",
       "      <td>Banashankari</td>\n",
       "    </tr>\n",
       "    <tr>\n",
       "      <th>130</th>\n",
       "      <td>Roll Magic Fast Food</td>\n",
       "      <td>No</td>\n",
       "      <td>No</td>\n",
       "      <td>NEW</td>\n",
       "      <td>0</td>\n",
       "      <td>Banashankari</td>\n",
       "      <td>Takeaway, Delivery</td>\n",
       "      <td>Biryani, Rolls, Chinese</td>\n",
       "      <td>200</td>\n",
       "      <td>Delivery</td>\n",
       "      <td>Banashankari</td>\n",
       "    </tr>\n",
       "    <tr>\n",
       "      <th>131</th>\n",
       "      <td>Foodlieious Multi Cuisine</td>\n",
       "      <td>No</td>\n",
       "      <td>No</td>\n",
       "      <td>NEW</td>\n",
       "      <td>0</td>\n",
       "      <td>Banashankari</td>\n",
       "      <td>Quick Bites</td>\n",
       "      <td>North Indian</td>\n",
       "      <td>100</td>\n",
       "      <td>Delivery</td>\n",
       "      <td>Banashankari</td>\n",
       "    </tr>\n",
       "    <tr>\n",
       "      <th>...</th>\n",
       "      <td>...</td>\n",
       "      <td>...</td>\n",
       "      <td>...</td>\n",
       "      <td>...</td>\n",
       "      <td>...</td>\n",
       "      <td>...</td>\n",
       "      <td>...</td>\n",
       "      <td>...</td>\n",
       "      <td>...</td>\n",
       "      <td>...</td>\n",
       "      <td>...</td>\n",
       "    </tr>\n",
       "    <tr>\n",
       "      <th>51585</th>\n",
       "      <td>Wow Tiffin Food</td>\n",
       "      <td>No</td>\n",
       "      <td>No</td>\n",
       "      <td>NEW</td>\n",
       "      <td>0</td>\n",
       "      <td>Whitefield</td>\n",
       "      <td>Quick Bites</td>\n",
       "      <td>North Indian</td>\n",
       "      <td>200</td>\n",
       "      <td>Dine-out</td>\n",
       "      <td>Whitefield</td>\n",
       "    </tr>\n",
       "    <tr>\n",
       "      <th>51586</th>\n",
       "      <td>Quick Bites</td>\n",
       "      <td>Yes</td>\n",
       "      <td>No</td>\n",
       "      <td>NEW</td>\n",
       "      <td>0</td>\n",
       "      <td>Whitefield</td>\n",
       "      <td>Quick Bites</td>\n",
       "      <td>Chinese</td>\n",
       "      <td>200</td>\n",
       "      <td>Dine-out</td>\n",
       "      <td>Whitefield</td>\n",
       "    </tr>\n",
       "    <tr>\n",
       "      <th>51603</th>\n",
       "      <td>Shiv sagar</td>\n",
       "      <td>Yes</td>\n",
       "      <td>No</td>\n",
       "      <td>NEW</td>\n",
       "      <td>0</td>\n",
       "      <td>Whitefield</td>\n",
       "      <td>Quick Bites, Food Court</td>\n",
       "      <td>South Indian, Chinese, North Indian</td>\n",
       "      <td>250</td>\n",
       "      <td>Dine-out</td>\n",
       "      <td>Whitefield</td>\n",
       "    </tr>\n",
       "    <tr>\n",
       "      <th>51604</th>\n",
       "      <td>Nawab Di Biryani</td>\n",
       "      <td>No</td>\n",
       "      <td>No</td>\n",
       "      <td>NEW</td>\n",
       "      <td>0</td>\n",
       "      <td>Whitefield</td>\n",
       "      <td>Takeaway, Delivery</td>\n",
       "      <td>Biryani, Mughlai</td>\n",
       "      <td>400</td>\n",
       "      <td>Dine-out</td>\n",
       "      <td>Whitefield</td>\n",
       "    </tr>\n",
       "    <tr>\n",
       "      <th>51605</th>\n",
       "      <td>Bong Connections</td>\n",
       "      <td>No</td>\n",
       "      <td>No</td>\n",
       "      <td>NEW</td>\n",
       "      <td>0</td>\n",
       "      <td>Whitefield</td>\n",
       "      <td>Quick Bites</td>\n",
       "      <td>Chinese, North Indian</td>\n",
       "      <td>300</td>\n",
       "      <td>Dine-out</td>\n",
       "      <td>Whitefield</td>\n",
       "    </tr>\n",
       "  </tbody>\n",
       "</table>\n",
       "<p>2192 rows × 11 columns</p>\n",
       "</div>"
      ],
      "text/plain": [
       "                            name online_order book_table rate  votes  \\\n",
       "72                 Spicy Tandoor           No         No  NEW      0   \n",
       "75         Om Sri Vinayaka Chats           No         No  NEW      0   \n",
       "110          Hari Super Sandwich           No         No  NEW      0   \n",
       "130         Roll Magic Fast Food           No         No  NEW      0   \n",
       "131    Foodlieious Multi Cuisine           No         No  NEW      0   \n",
       "...                          ...          ...        ...  ...    ...   \n",
       "51585            Wow Tiffin Food           No         No  NEW      0   \n",
       "51586                Quick Bites          Yes         No  NEW      0   \n",
       "51603                 Shiv sagar          Yes         No  NEW      0   \n",
       "51604           Nawab Di Biryani           No         No  NEW      0   \n",
       "51605           Bong Connections           No         No  NEW      0   \n",
       "\n",
       "           location                rest_type  \\\n",
       "72     Banashankari              Quick Bites   \n",
       "75     Banashankari       Takeaway, Delivery   \n",
       "110    Banashankari       Takeaway, Delivery   \n",
       "130    Banashankari       Takeaway, Delivery   \n",
       "131    Banashankari              Quick Bites   \n",
       "...             ...                      ...   \n",
       "51585    Whitefield              Quick Bites   \n",
       "51586    Whitefield              Quick Bites   \n",
       "51603    Whitefield  Quick Bites, Food Court   \n",
       "51604    Whitefield       Takeaway, Delivery   \n",
       "51605    Whitefield              Quick Bites   \n",
       "\n",
       "                                  cuisines cost list_type          city  \n",
       "72                            North Indian  150  Delivery  Banashankari  \n",
       "75                  Street Food, Fast Food  500  Delivery  Banashankari  \n",
       "110             Sandwich, Pizza, Beverages  200  Delivery  Banashankari  \n",
       "130                Biryani, Rolls, Chinese  200  Delivery  Banashankari  \n",
       "131                           North Indian  100  Delivery  Banashankari  \n",
       "...                                    ...  ...       ...           ...  \n",
       "51585                         North Indian  200  Dine-out    Whitefield  \n",
       "51586                              Chinese  200  Dine-out    Whitefield  \n",
       "51603  South Indian, Chinese, North Indian  250  Dine-out    Whitefield  \n",
       "51604                     Biryani, Mughlai  400  Dine-out    Whitefield  \n",
       "51605                Chinese, North Indian  300  Dine-out    Whitefield  \n",
       "\n",
       "[2192 rows x 11 columns]"
      ]
     },
     "execution_count": 36,
     "metadata": {},
     "output_type": "execute_result"
    }
   ],
   "source": [
    "df[df['rate']=='NEW']"
   ]
  },
  {
   "cell_type": "code",
   "execution_count": 37,
   "metadata": {},
   "outputs": [
    {
     "data": {
      "text/plain": [
       "2257"
      ]
     },
     "execution_count": 37,
     "metadata": {},
     "output_type": "execute_result"
    }
   ],
   "source": [
    "df['rate']=df['rate'].replace({'-':np.nan,'NEW':np.nan})\n",
    "\n",
    "df['rate'].isnull().sum()"
   ]
  },
  {
   "cell_type": "code",
   "execution_count": 38,
   "metadata": {},
   "outputs": [],
   "source": [
    "#SimpleImputer\n",
    "from sklearn.impute import SimpleImputer\n",
    "mode_imputer = SimpleImputer(strategy='most_frequent')\n",
    "df['rate'] = mode_imputer.fit_transform(df[['rate']])\n"
   ]
  },
  {
   "cell_type": "code",
   "execution_count": 39,
   "metadata": {},
   "outputs": [
    {
     "data": {
      "text/plain": [
       "0"
      ]
     },
     "execution_count": 39,
     "metadata": {},
     "output_type": "execute_result"
    }
   ],
   "source": [
    "df['rate'].isnull().sum()"
   ]
  },
  {
   "cell_type": "code",
   "execution_count": 40,
   "metadata": {},
   "outputs": [],
   "source": [
    "df['rate'].astype(str)\n",
    "df['rate']=df['rate'].apply(lambda x:x.replace('/5',''))\n",
    "df['rate']=df['rate'].astype(float)"
   ]
  },
  {
   "cell_type": "code",
   "execution_count": 41,
   "metadata": {},
   "outputs": [],
   "source": [
    "#feature extraction\n",
    "def resturant(x):\n",
    "    if x>3.7:\n",
    "        return 1\n",
    "    else:\n",
    "        return 0\n",
    "df['new_rate']=df['rate'].apply(lambda x:resturant(x))    "
   ]
  },
  {
   "cell_type": "code",
   "execution_count": 42,
   "metadata": {},
   "outputs": [
    {
     "data": {
      "text/plain": [
       "0        1\n",
       "1        1\n",
       "2        1\n",
       "3        0\n",
       "4        1\n",
       "        ..\n",
       "51709    0\n",
       "51711    0\n",
       "51712    0\n",
       "51715    1\n",
       "51716    0\n",
       "Name: new_rate, Length: 43447, dtype: int64"
      ]
     },
     "execution_count": 42,
     "metadata": {},
     "output_type": "execute_result"
    }
   ],
   "source": [
    "df['new_rate']"
   ]
  },
  {
   "cell_type": "code",
   "execution_count": 43,
   "metadata": {},
   "outputs": [
    {
     "data": {
      "text/plain": [
       "['800',\n",
       " '300',\n",
       " '600',\n",
       " '700',\n",
       " '550',\n",
       " '500',\n",
       " '450',\n",
       " '650',\n",
       " '400',\n",
       " '900',\n",
       " '200',\n",
       " '750',\n",
       " '150',\n",
       " '850',\n",
       " '100',\n",
       " '1,200',\n",
       " '350',\n",
       " '250',\n",
       " '950',\n",
       " '1,000',\n",
       " '1,500',\n",
       " '1,300',\n",
       " '199',\n",
       " '80',\n",
       " '1,100',\n",
       " '160',\n",
       " '1,600',\n",
       " '230',\n",
       " '130',\n",
       " '1,700',\n",
       " '1,400',\n",
       " '1,350',\n",
       " '2,200',\n",
       " '2,000',\n",
       " '1,800',\n",
       " '1,900',\n",
       " '180',\n",
       " '330',\n",
       " '2,500',\n",
       " '2,100',\n",
       " '3,000',\n",
       " '2,800',\n",
       " '3,400',\n",
       " '50',\n",
       " '40',\n",
       " '1,250',\n",
       " '3,500',\n",
       " '4,000',\n",
       " '2,400',\n",
       " '2,600',\n",
       " '1,450',\n",
       " '70',\n",
       " '3,200',\n",
       " '560',\n",
       " '240',\n",
       " '360',\n",
       " '6,000',\n",
       " '1,050',\n",
       " '2,300',\n",
       " '4,100',\n",
       " '120',\n",
       " '5,000',\n",
       " '3,700',\n",
       " '1,650',\n",
       " '2,700',\n",
       " '4,500']"
      ]
     },
     "execution_count": 43,
     "metadata": {},
     "output_type": "execute_result"
    }
   ],
   "source": [
    "df['cost'].unique().tolist()"
   ]
  },
  {
   "cell_type": "code",
   "execution_count": 44,
   "metadata": {
    "scrolled": true
   },
   "outputs": [
    {
     "data": {
      "text/plain": [
       "0         800.0\n",
       "1         800.0\n",
       "2         800.0\n",
       "3         300.0\n",
       "4         600.0\n",
       "          ...  \n",
       "51709     800.0\n",
       "51711     800.0\n",
       "51712    1500.0\n",
       "51715    2500.0\n",
       "51716    1500.0\n",
       "Name: cost, Length: 43447, dtype: float64"
      ]
     },
     "execution_count": 44,
     "metadata": {},
     "output_type": "execute_result"
    }
   ],
   "source": [
    "#for approx_cost(for two people)\n",
    "df['cost']=df['cost'].astype(str)\n",
    "df['cost']=df['cost'].apply(lambda x:x.replace(',',''))\n",
    "df['cost']=df['cost'].astype(float)\n",
    "df['cost']"
   ]
  },
  {
   "cell_type": "markdown",
   "metadata": {},
   "source": [
    "# bivariate analysis"
   ]
  },
  {
   "cell_type": "code",
   "execution_count": 45,
   "metadata": {},
   "outputs": [
    {
     "data": {
      "text/plain": [
       "name\n",
       "Asia Kitchen By Mainland China                                                      4.900000\n",
       "SantÃÂÃÂÃÂÃÂÃÂÃÂÃÂÃÂÃÂÃÂÃÂÃÂÃÂÃÂÃÂÃÂ© Spa Cuisine    4.900000\n",
       "Byg Brewski Brewing Company                                                         4.900000\n",
       "Punjab Grill                                                                        4.871429\n",
       "Belgian Waffle Factory                                                              4.844828\n",
       "O.G. Variar & Sons                                                                  4.800000\n",
       "Flechazo                                                                            4.800000\n",
       "The Pizza Bakery                                                                    4.800000\n",
       "AB's - Absolute Barbecues                                                           4.789474\n",
       "CTR                                                                                 4.750000\n",
       "Name: rate, dtype: float64"
      ]
     },
     "execution_count": 45,
     "metadata": {},
     "output_type": "execute_result"
    }
   ],
   "source": [
    "#top 10 rated resturants\n",
    "df.groupby('name').mean()['rate'].sort_values(ascending=False).head(10)"
   ]
  },
  {
   "cell_type": "code",
   "execution_count": 46,
   "metadata": {},
   "outputs": [],
   "source": [
    "df['name']=df['name'].replace('SantÃÂÃÂÃÂÃÂÃÂÃÂÃÂÃÂÃÂÃÂÃÂÃÂÃÂÃÂÃÂÃÂ© Spa Cuisine','Sant')"
   ]
  },
  {
   "cell_type": "code",
   "execution_count": 47,
   "metadata": {},
   "outputs": [
    {
     "data": {
      "text/plain": [
       "name\n",
       "Asia Kitchen By Mainland China    4.900000\n",
       "Sant                              4.900000\n",
       "Byg Brewski Brewing Company       4.900000\n",
       "Punjab Grill                      4.871429\n",
       "Belgian Waffle Factory            4.844828\n",
       "O.G. Variar & Sons                4.800000\n",
       "Flechazo                          4.800000\n",
       "The Pizza Bakery                  4.800000\n",
       "AB's - Absolute Barbecues         4.789474\n",
       "CTR                               4.750000\n",
       "Name: rate, dtype: float64"
      ]
     },
     "execution_count": 47,
     "metadata": {},
     "output_type": "execute_result"
    }
   ],
   "source": [
    "df.groupby('name').mean()['rate'].sort_values(ascending=False).head(10)"
   ]
  },
  {
   "cell_type": "code",
   "execution_count": 48,
   "metadata": {},
   "outputs": [
    {
     "data": {
      "text/plain": [
       "name\n",
       "Onesta                         347520\n",
       "Truffles                       301059\n",
       "Empire Restaurant              229808\n",
       "Hammered                       180602\n",
       "The Black Pearl                172122\n",
       "Meghana Foods                  129557\n",
       "Barbeque Nation                108425\n",
       "Smally's Resto Cafe            102877\n",
       "Byg Brewski Brewing Company     99531\n",
       "Gilly's Restobar                98808\n",
       "Name: votes, dtype: int64"
      ]
     },
     "execution_count": 48,
     "metadata": {},
     "output_type": "execute_result"
    }
   ],
   "source": [
    "#top10 voted resturant\n",
    "df.groupby('name').sum()['votes'].sort_values(ascending=False).head(10)"
   ]
  },
  {
   "cell_type": "code",
   "execution_count": 49,
   "metadata": {},
   "outputs": [
    {
     "data": {
      "text/plain": [
       "name\n",
       "Cafe Coffee Day        74800.0\n",
       "Mainland China         74100.0\n",
       "Barbeque Nation        65600.0\n",
       "Hammered               59800.0\n",
       "Toscano                56400.0\n",
       "Banjara Melting Pot    56100.0\n",
       "Sherlock's Pub         54100.0\n",
       "Smoor                  51100.0\n",
       "Onesta                 51000.0\n",
       "Empire Restaurant      48650.0\n",
       "Name: cost, dtype: float64"
      ]
     },
     "execution_count": 49,
     "metadata": {},
     "output_type": "execute_result"
    }
   ],
   "source": [
    "#top10 resturant\n",
    "df.groupby('name').sum()['cost'].sort_values(ascending=False).head(10\n",
    "                                                                  )"
   ]
  },
  {
   "cell_type": "code",
   "execution_count": 50,
   "metadata": {},
   "outputs": [
    {
     "data": {
      "text/html": [
       "<div>\n",
       "<style scoped>\n",
       "    .dataframe tbody tr th:only-of-type {\n",
       "        vertical-align: middle;\n",
       "    }\n",
       "\n",
       "    .dataframe tbody tr th {\n",
       "        vertical-align: top;\n",
       "    }\n",
       "\n",
       "    .dataframe thead th {\n",
       "        text-align: right;\n",
       "    }\n",
       "</style>\n",
       "<table border=\"1\" class=\"dataframe\">\n",
       "  <thead>\n",
       "    <tr style=\"text-align: right;\">\n",
       "      <th></th>\n",
       "      <th>location</th>\n",
       "      <th>city</th>\n",
       "    </tr>\n",
       "  </thead>\n",
       "  <tbody>\n",
       "    <tr>\n",
       "      <th>0</th>\n",
       "      <td>Banashankari</td>\n",
       "      <td>Banashankari</td>\n",
       "    </tr>\n",
       "    <tr>\n",
       "      <th>1</th>\n",
       "      <td>Banashankari</td>\n",
       "      <td>Banashankari</td>\n",
       "    </tr>\n",
       "    <tr>\n",
       "      <th>2</th>\n",
       "      <td>Banashankari</td>\n",
       "      <td>Banashankari</td>\n",
       "    </tr>\n",
       "    <tr>\n",
       "      <th>3</th>\n",
       "      <td>Banashankari</td>\n",
       "      <td>Banashankari</td>\n",
       "    </tr>\n",
       "    <tr>\n",
       "      <th>4</th>\n",
       "      <td>Basavanagudi</td>\n",
       "      <td>Banashankari</td>\n",
       "    </tr>\n",
       "    <tr>\n",
       "      <th>...</th>\n",
       "      <td>...</td>\n",
       "      <td>...</td>\n",
       "    </tr>\n",
       "    <tr>\n",
       "      <th>51709</th>\n",
       "      <td>Whitefield</td>\n",
       "      <td>Whitefield</td>\n",
       "    </tr>\n",
       "    <tr>\n",
       "      <th>51711</th>\n",
       "      <td>Whitefield</td>\n",
       "      <td>Whitefield</td>\n",
       "    </tr>\n",
       "    <tr>\n",
       "      <th>51712</th>\n",
       "      <td>Whitefield</td>\n",
       "      <td>Whitefield</td>\n",
       "    </tr>\n",
       "    <tr>\n",
       "      <th>51715</th>\n",
       "      <td>ITPL Main Road, Whitefield</td>\n",
       "      <td>Whitefield</td>\n",
       "    </tr>\n",
       "    <tr>\n",
       "      <th>51716</th>\n",
       "      <td>ITPL Main Road, Whitefield</td>\n",
       "      <td>Whitefield</td>\n",
       "    </tr>\n",
       "  </tbody>\n",
       "</table>\n",
       "<p>43447 rows × 2 columns</p>\n",
       "</div>"
      ],
      "text/plain": [
       "                         location          city\n",
       "0                    Banashankari  Banashankari\n",
       "1                    Banashankari  Banashankari\n",
       "2                    Banashankari  Banashankari\n",
       "3                    Banashankari  Banashankari\n",
       "4                    Basavanagudi  Banashankari\n",
       "...                           ...           ...\n",
       "51709                  Whitefield    Whitefield\n",
       "51711                  Whitefield    Whitefield\n",
       "51712                  Whitefield    Whitefield\n",
       "51715  ITPL Main Road, Whitefield    Whitefield\n",
       "51716  ITPL Main Road, Whitefield    Whitefield\n",
       "\n",
       "[43447 rows x 2 columns]"
      ]
     },
     "execution_count": 50,
     "metadata": {},
     "output_type": "execute_result"
    }
   ],
   "source": [
    "df[['location','city']]"
   ]
  },
  {
   "cell_type": "code",
   "execution_count": 51,
   "metadata": {},
   "outputs": [
    {
     "data": {
      "text/plain": [
       "BTM                      3025\n",
       "HSR                      1731\n",
       "Koramangala 5th Block    1550\n",
       "Indiranagar              1303\n",
       "Jayanagar                1286\n",
       "Name: location, dtype: int64"
      ]
     },
     "execution_count": 51,
     "metadata": {},
     "output_type": "execute_result"
    }
   ],
   "source": [
    "#5 location has online order\n",
    "df[df['online_order']=='Yes']['location'].value_counts().head(5)"
   ]
  },
  {
   "cell_type": "code",
   "execution_count": 52,
   "metadata": {},
   "outputs": [
    {
     "data": {
      "text/plain": [
       "BTM                      2367\n",
       "Koramangala 7th Block    2095\n",
       "Koramangala 5th Block    2014\n",
       "Koramangala 4th Block    1987\n",
       "Koramangala 6th Block    1923\n",
       "Name: city, dtype: int64"
      ]
     },
     "execution_count": 52,
     "metadata": {},
     "output_type": "execute_result"
    }
   ],
   "source": [
    "#5 city has no book table\n",
    "df[df['book_table']=='No']['city'].value_counts().head(5)"
   ]
  },
  {
   "cell_type": "code",
   "execution_count": null,
   "metadata": {},
   "outputs": [],
   "source": []
  },
  {
   "cell_type": "code",
   "execution_count": null,
   "metadata": {},
   "outputs": [],
   "source": []
  },
  {
   "cell_type": "code",
   "execution_count": null,
   "metadata": {},
   "outputs": [],
   "source": []
  },
  {
   "cell_type": "code",
   "execution_count": null,
   "metadata": {},
   "outputs": [],
   "source": []
  },
  {
   "cell_type": "code",
   "execution_count": null,
   "metadata": {},
   "outputs": [],
   "source": []
  },
  {
   "cell_type": "markdown",
   "metadata": {},
   "source": [
    "# visualization"
   ]
  },
  {
   "cell_type": "code",
   "execution_count": 53,
   "metadata": {},
   "outputs": [
    {
     "data": {
      "text/plain": [
       "<matplotlib.axes._subplots.AxesSubplot at 0xdb08ec8>"
      ]
     },
     "execution_count": 53,
     "metadata": {},
     "output_type": "execute_result"
    },
    {
     "data": {
      "image/png": "[encoded data removed]",
      "text/plain": [
       "<Figure size 432x288 with 1 Axes>"
      ]
     },
     "metadata": {},
     "output_type": "display_data"
    }
   ],
   "source": [
    "\n",
    "df['online_order'].value_counts().plot(kind='pie')"
   ]
  },
  {
   "cell_type": "code",
   "execution_count": 54,
   "metadata": {},
   "outputs": [
    {
     "data": {
      "text/plain": [
       "<matplotlib.axes._subplots.AxesSubplot at 0xda818c8>"
      ]
     },
     "execution_count": 54,
     "metadata": {},
     "output_type": "execute_result"
    },
    {
     "data": {
      "image/png": "[encoded data removed]",
      "text/plain": [
       "<Figure size 432x288 with 1 Axes>"
      ]
     },
     "metadata": {
      "needs_background": "light"
     },
     "output_type": "display_data"
    }
   ],
   "source": [
    "sns.countplot(data=df,x='book_table')"
   ]
  },
  {
   "cell_type": "code",
   "execution_count": 55,
   "metadata": {},
   "outputs": [
    {
     "data": {
      "text/plain": [
       "3.9    14.293277\n",
       "3.8     8.783115\n",
       "3.7     8.748590\n",
       "3.6     7.554031\n",
       "4.0     7.231800\n",
       "4.1     6.725436\n",
       "3.5     6.354869\n",
       "3.4     5.622943\n",
       "3.3     5.229360\n",
       "4.2     4.950860\n",
       "3.2     4.232743\n",
       "4.3     3.859875\n",
       "3.1     3.567565\n",
       "4.4     2.614680\n",
       "3.0     2.278638\n",
       "2.9     1.841324\n",
       "4.5     1.502981\n",
       "2.8     1.334960\n",
       "2.7     0.697401\n",
       "4.6     0.688195\n",
       "2.6     0.573112\n",
       "4.7     0.384376\n",
       "2.5     0.230165\n",
       "2.4     0.151909\n",
       "4.8     0.151909\n",
       "4.9     0.126591\n",
       "2.3     0.117384\n",
       "2.2     0.059843\n",
       "2.1     0.055240\n",
       "2.0     0.025318\n",
       "1.8     0.011508\n",
       "Name: rate, dtype: float64"
      ]
     },
     "execution_count": 55,
     "metadata": {},
     "output_type": "execute_result"
    }
   ],
   "source": [
    "df['rate'].value_counts(normalize=True)*100"
   ]
  },
  {
   "cell_type": "code",
   "execution_count": 56,
   "metadata": {},
   "outputs": [
    {
     "data": {
      "text/plain": [
       "<matplotlib.axes._subplots.AxesSubplot at 0xdb490c8>"
      ]
     },
     "execution_count": 56,
     "metadata": {},
     "output_type": "execute_result"
    },
    {
     "data": {
      "image/png": "[encoded data removed]",
      "text/plain": [
       "<Figure size 432x288 with 1 Axes>"
      ]
     },
     "metadata": {
      "needs_background": "light"
     },
     "output_type": "display_data"
    }
   ],
   "source": [
    "df['rate'].value_counts().plot(kind='bar')"
   ]
  },
  {
   "cell_type": "code",
   "execution_count": 57,
   "metadata": {},
   "outputs": [],
   "source": [
    "\n",
    "#sns.set(rc={'figure.figsize':(15,8)})\n",
    "#sns.kdeplot(data = df , x =\"rate\")"
   ]
  },
  {
   "cell_type": "code",
   "execution_count": 58,
   "metadata": {},
   "outputs": [],
   "source": [
    "#sns.kdeplot(data = df , x =\"votes\")"
   ]
  },
  {
   "cell_type": "code",
   "execution_count": 59,
   "metadata": {},
   "outputs": [],
   "source": [
    "#sns.kdeplot(data = df , x =\"cost\")"
   ]
  },
  {
   "cell_type": "code",
   "execution_count": 60,
   "metadata": {},
   "outputs": [
    {
     "data": {
      "text/plain": [
       "<matplotlib.axes._subplots.AxesSubplot at 0xdc55548>"
      ]
     },
     "execution_count": 60,
     "metadata": {},
     "output_type": "execute_result"
    },
    {
     "data": {
      "image/png": "[encoded data removed]",
      "text/plain": [
       "<Figure size 576x432 with 1 Axes>"
      ]
     },
     "metadata": {
      "needs_background": "light"
     },
     "output_type": "display_data"
    }
   ],
   "source": [
    "plt.figure(figsize=(8,6))\n",
    "sns.distplot(df['cost'],bins=20)"
   ]
  },
  {
   "cell_type": "code",
   "execution_count": 61,
   "metadata": {},
   "outputs": [
    {
     "data": {
      "text/plain": [
       "BTM                      9.669252\n",
       "Koramangala 5th Block    5.422699\n",
       "HSR                      4.833475\n",
       "Indiranagar              4.331715\n",
       "JP Nagar                 4.237347\n",
       "                           ...   \n",
       "West Bangalore           0.011508\n",
       "Yelahanka                0.009207\n",
       "Rajarajeshwari Nagar     0.004603\n",
       "Nagarbhavi               0.002302\n",
       "Peenya                   0.002302\n",
       "Name: location, Length: 92, dtype: float64"
      ]
     },
     "execution_count": 61,
     "metadata": {},
     "output_type": "execute_result"
    }
   ],
   "source": [
    "df['location'].value_counts(normalize=True)*100"
   ]
  },
  {
   "cell_type": "code",
   "execution_count": 62,
   "metadata": {},
   "outputs": [
    {
     "data": {
      "text/plain": [
       "<matplotlib.axes._subplots.AxesSubplot at 0xdd121c8>"
      ]
     },
     "execution_count": 62,
     "metadata": {},
     "output_type": "execute_result"
    },
    {
     "data": {
      "image/png": "[encoded data removed]",
      "text/plain": [
       "<Figure size 576x432 with 1 Axes>"
      ]
     },
     "metadata": {},
     "output_type": "display_data"
    }
   ],
   "source": [
    "#top 5 location\n",
    "sns.set(rc={'figure.figsize':(8,6)})\n",
    "t5=df['location'].value_counts(normalize=True).head(5).index\n",
    "sns.countplot(data=df,x='location',order=t5)"
   ]
  },
  {
   "cell_type": "code",
   "execution_count": 63,
   "metadata": {},
   "outputs": [
    {
     "data": {
      "text/plain": [
       "<matplotlib.axes._subplots.AxesSubplot at 0xdd582c8>"
      ]
     },
     "execution_count": 63,
     "metadata": {},
     "output_type": "execute_result"
    },
    {
     "data": {
      "image/png": "[encoded data removed]",
      "text/plain": [
       "<Figure size 576x432 with 1 Axes>"
      ]
     },
     "metadata": {},
     "output_type": "display_data"
    }
   ],
   "source": [
    "#top 5 rest_type\n",
    "t5=df['rest_type'].value_counts(normalize=True).head(5).index\n",
    "sns.countplot(data=df,x='rest_type',order=t5)"
   ]
  },
  {
   "cell_type": "code",
   "execution_count": 64,
   "metadata": {},
   "outputs": [
    {
     "data": {
      "text/plain": [
       "<matplotlib.axes._subplots.AxesSubplot at 0xde40388>"
      ]
     },
     "execution_count": 64,
     "metadata": {},
     "output_type": "execute_result"
    },
    {
     "data": {
      "image/png": "[encoded data removed]",
      "text/plain": [
       "<Figure size 576x432 with 1 Axes>"
      ]
     },
     "metadata": {},
     "output_type": "display_data"
    }
   ],
   "source": [
    "#top10 city\n",
    "sns.set(rc={'figure.figsize':(8,6)})\n",
    "t5=df['city'].value_counts().head(10).index\n",
    "sns.countplot(data=df,y='city',order=t5)"
   ]
  },
  {
   "cell_type": "code",
   "execution_count": null,
   "metadata": {},
   "outputs": [],
   "source": []
  },
  {
   "cell_type": "code",
   "execution_count": 65,
   "metadata": {},
   "outputs": [
    {
     "data": {
      "text/plain": [
       "<matplotlib.axes._subplots.AxesSubplot at 0xdeadfc8>"
      ]
     },
     "execution_count": 65,
     "metadata": {},
     "output_type": "execute_result"
    },
    {
     "data": {
      "image/png": "[encoded data removed]",
      "text/plain": [
       "<Figure size 576x432 with 1 Axes>"
      ]
     },
     "metadata": {},
     "output_type": "display_data"
    }
   ],
   "source": [
    "#top10 list_type\n",
    "sns.set(rc={'figure.figsize':(8,6)})\n",
    "t5=df['list_type'].value_counts().head(10).index\n",
    "sns.countplot(data=df,y='list_type',order=t5)"
   ]
  },
  {
   "cell_type": "code",
   "execution_count": 66,
   "metadata": {},
   "outputs": [],
   "source": [
    "#visual for 2 feature"
   ]
  },
  {
   "cell_type": "code",
   "execution_count": 67,
   "metadata": {},
   "outputs": [
    {
     "data": {
      "text/plain": [
       "<matplotlib.axes._subplots.AxesSubplot at 0xdf355c8>"
      ]
     },
     "execution_count": 67,
     "metadata": {},
     "output_type": "execute_result"
    },
    {
     "data": {
      "image/png": "[encoded data removed]",
      "text/plain": [
       "<Figure size 576x432 with 1 Axes>"
      ]
     },
     "metadata": {},
     "output_type": "display_data"
    }
   ],
   "source": [
    "#top10 voted\n",
    "t10=df.groupby(['name']).sum()['votes'].sort_values(ascending=False).head(10).index\n",
    "sns.set(rc={'figure.figsize':(8,6)})\n",
    "sns.barplot(data=df,y='name',x='votes',estimator=sum,order=t10)"
   ]
  },
  {
   "cell_type": "code",
   "execution_count": 68,
   "metadata": {},
   "outputs": [
    {
     "data": {
      "text/plain": [
       "<matplotlib.axes._subplots.AxesSubplot at 0xda11ec8>"
      ]
     },
     "execution_count": 68,
     "metadata": {},
     "output_type": "execute_result"
    },
    {
     "data": {
      "image/png": "[encoded data removed]",
      "text/plain": [
       "<Figure size 576x432 with 1 Axes>"
      ]
     },
     "metadata": {},
     "output_type": "display_data"
    }
   ],
   "source": [
    "sns.countplot(data=df,x='online_order',hue='book_table')"
   ]
  },
  {
   "cell_type": "code",
   "execution_count": null,
   "metadata": {},
   "outputs": [],
   "source": []
  },
  {
   "cell_type": "code",
   "execution_count": 69,
   "metadata": {},
   "outputs": [
    {
     "data": {
      "text/plain": [
       "<matplotlib.axes._subplots.AxesSubplot at 0xef8cbc8>"
      ]
     },
     "execution_count": 69,
     "metadata": {},
     "output_type": "execute_result"
    },
    {
     "data": {
      "image/png": "[encoded data removed]",
      "text/plain": [
       "<Figure size 432x288 with 1 Axes>"
      ]
     },
     "metadata": {},
     "output_type": "display_data"
    }
   ],
   "source": [
    "sns.set(rc={'figure.figsize':(6,4)})\n",
    "sns.barplot(data=df,y=\"rate\",x='book_table')"
   ]
  },
  {
   "cell_type": "code",
   "execution_count": 70,
   "metadata": {},
   "outputs": [
    {
     "data": {
      "text/plain": [
       "<matplotlib.axes._subplots.AxesSubplot at 0xc2a5608>"
      ]
     },
     "execution_count": 70,
     "metadata": {},
     "output_type": "execute_result"
    },
    {
     "data": {
      "image/png": "[encoded data removed]",
      "text/plain": [
       "<Figure size 432x288 with 1 Axes>"
      ]
     },
     "metadata": {},
     "output_type": "display_data"
    }
   ],
   "source": [
    "fig, ax = plt.subplots(figsize=(6, 4))\n",
    "sns.barplot(data=df,x='online_order',y='votes', ax=ax)"
   ]
  },
  {
   "cell_type": "code",
   "execution_count": 71,
   "metadata": {},
   "outputs": [
    {
     "data": {
      "text/plain": [
       "<matplotlib.axes._subplots.AxesSubplot at 0xc2f7ac8>"
      ]
     },
     "execution_count": 71,
     "metadata": {},
     "output_type": "execute_result"
    },
    {
     "data": {
      "image/png": "[encoded data removed]",
      "text/plain": [
       "<Figure size 1080x504 with 2 Axes>"
      ]
     },
     "metadata": {},
     "output_type": "display_data"
    }
   ],
   "source": [
    "plt.figure(figsize=(15,7))\n",
    "sns.heatmap(df.corr(),annot=True)"
   ]
  },
  {
   "cell_type": "code",
   "execution_count": 72,
   "metadata": {},
   "outputs": [
    {
     "data": {
      "image/png": "[encoded data removed]",
      "text/plain": [
       "<Figure size 432x288 with 1 Axes>"
      ]
     },
     "metadata": {},
     "output_type": "display_data"
    }
   ],
   "source": [
    "loc_plt=pd.crosstab(df['rate'],df['city'][:1000])\n",
    "loc_plt.plot(kind='bar',stacked=True);\n",
    "plt.title('relation between rate&city',fontsize=12,fontweight='bold')\n",
    "plt.ylabel('City',fontsize=8,fontweight='bold')\n",
    "plt.xlabel('Rate',fontsize=8,fontweight='bold')\n",
    "plt.xticks(fontsize=8,fontweight='bold')\n",
    "plt.yticks(fontsize=8,fontweight='bold');\n",
    "plt.legend();"
   ]
  },
  {
   "cell_type": "code",
   "execution_count": 73,
   "metadata": {},
   "outputs": [
    {
     "data": {
      "text/plain": [
       "Text(0.5, 1.0, 'types of resturant')"
      ]
     },
     "execution_count": 73,
     "metadata": {},
     "output_type": "execute_result"
    },
    {
     "data": {
      "image/png": "[encoded data removed]",
      "text/plain": [
       "<Figure size 720x576 with 1 Axes>"
      ]
     },
     "metadata": {},
     "output_type": "display_data"
    }
   ],
   "source": [
    "#the 10 most common types of resturants in banglore\n",
    "plt.figure(figsize=(10,8))\n",
    "x=df['rest_type'].value_counts()[:10]\n",
    "sns.barplot(x,x.index)\n",
    "plt.title(\"types of resturant\")"
   ]
  },
  {
   "cell_type": "markdown",
   "metadata": {},
   "source": [
    "# removing outliers"
   ]
  },
  {
   "cell_type": "code",
   "execution_count": 74,
   "metadata": {},
   "outputs": [
    {
     "data": {
      "text/html": [
       "<div>\n",
       "<style scoped>\n",
       "    .dataframe tbody tr th:only-of-type {\n",
       "        vertical-align: middle;\n",
       "    }\n",
       "\n",
       "    .dataframe tbody tr th {\n",
       "        vertical-align: top;\n",
       "    }\n",
       "\n",
       "    .dataframe thead th {\n",
       "        text-align: right;\n",
       "    }\n",
       "</style>\n",
       "<table border=\"1\" class=\"dataframe\">\n",
       "  <thead>\n",
       "    <tr style=\"text-align: right;\">\n",
       "      <th></th>\n",
       "      <th>rate</th>\n",
       "      <th>votes</th>\n",
       "      <th>cost</th>\n",
       "      <th>new_rate</th>\n",
       "    </tr>\n",
       "  </thead>\n",
       "  <tbody>\n",
       "    <tr>\n",
       "      <th>count</th>\n",
       "      <td>43447.000000</td>\n",
       "      <td>43447.000000</td>\n",
       "      <td>43447.000000</td>\n",
       "      <td>43447.000000</td>\n",
       "    </tr>\n",
       "    <tr>\n",
       "      <th>mean</th>\n",
       "      <td>3.712031</td>\n",
       "      <td>333.777430</td>\n",
       "      <td>594.517826</td>\n",
       "      <td>0.513131</td>\n",
       "    </tr>\n",
       "    <tr>\n",
       "      <th>std</th>\n",
       "      <td>0.430603</td>\n",
       "      <td>863.748802</td>\n",
       "      <td>459.066707</td>\n",
       "      <td>0.499833</td>\n",
       "    </tr>\n",
       "    <tr>\n",
       "      <th>min</th>\n",
       "      <td>1.800000</td>\n",
       "      <td>0.000000</td>\n",
       "      <td>40.000000</td>\n",
       "      <td>0.000000</td>\n",
       "    </tr>\n",
       "    <tr>\n",
       "      <th>25%</th>\n",
       "      <td>3.400000</td>\n",
       "      <td>17.000000</td>\n",
       "      <td>300.000000</td>\n",
       "      <td>0.000000</td>\n",
       "    </tr>\n",
       "    <tr>\n",
       "      <th>50%</th>\n",
       "      <td>3.800000</td>\n",
       "      <td>64.000000</td>\n",
       "      <td>450.000000</td>\n",
       "      <td>1.000000</td>\n",
       "    </tr>\n",
       "    <tr>\n",
       "      <th>75%</th>\n",
       "      <td>4.000000</td>\n",
       "      <td>254.000000</td>\n",
       "      <td>700.000000</td>\n",
       "      <td>1.000000</td>\n",
       "    </tr>\n",
       "    <tr>\n",
       "      <th>max</th>\n",
       "      <td>4.900000</td>\n",
       "      <td>16832.000000</td>\n",
       "      <td>6000.000000</td>\n",
       "      <td>1.000000</td>\n",
       "    </tr>\n",
       "  </tbody>\n",
       "</table>\n",
       "</div>"
      ],
      "text/plain": [
       "               rate         votes          cost      new_rate\n",
       "count  43447.000000  43447.000000  43447.000000  43447.000000\n",
       "mean       3.712031    333.777430    594.517826      0.513131\n",
       "std        0.430603    863.748802    459.066707      0.499833\n",
       "min        1.800000      0.000000     40.000000      0.000000\n",
       "25%        3.400000     17.000000    300.000000      0.000000\n",
       "50%        3.800000     64.000000    450.000000      1.000000\n",
       "75%        4.000000    254.000000    700.000000      1.000000\n",
       "max        4.900000  16832.000000   6000.000000      1.000000"
      ]
     },
     "execution_count": 74,
     "metadata": {},
     "output_type": "execute_result"
    }
   ],
   "source": [
    "df.describe()"
   ]
  },
  {
   "cell_type": "code",
   "execution_count": 75,
   "metadata": {},
   "outputs": [
    {
     "data": {
      "text/plain": [
       "<matplotlib.axes._subplots.AxesSubplot at 0xf0577c8>"
      ]
     },
     "execution_count": 75,
     "metadata": {},
     "output_type": "execute_result"
    },
    {
     "data": {
      "image/png": "[encoded data removed]",
      "text/plain": [
       "<Figure size 432x288 with 1 Axes>"
      ]
     },
     "metadata": {},
     "output_type": "display_data"
    }
   ],
   "source": [
    "df.boxplot('cost')"
   ]
  },
  {
   "cell_type": "code",
   "execution_count": 76,
   "metadata": {},
   "outputs": [],
   "source": [
    "#interquartile range\n",
    "#for x in ['cost']:\n",
    "#    q75,q25=np.percentile(df.loc[:,x],[75,25])\n",
    " #   iqr=q75-q25\n",
    "#    max=q75+(1.5*iqr)\n",
    "#    min=q25-(1.5*iqr)\n",
    "#    df.loc[df[x]<min,x]=np.nan\n",
    "#    df.loc[df[x]>max,x]=np.nan"
   ]
  },
  {
   "cell_type": "code",
   "execution_count": 77,
   "metadata": {},
   "outputs": [
    {
     "data": {
      "text/html": [
       "<div>\n",
       "<style scoped>\n",
       "    .dataframe tbody tr th:only-of-type {\n",
       "        vertical-align: middle;\n",
       "    }\n",
       "\n",
       "    .dataframe tbody tr th {\n",
       "        vertical-align: top;\n",
       "    }\n",
       "\n",
       "    .dataframe thead th {\n",
       "        text-align: right;\n",
       "    }\n",
       "</style>\n",
       "<table border=\"1\" class=\"dataframe\">\n",
       "  <thead>\n",
       "    <tr style=\"text-align: right;\">\n",
       "      <th></th>\n",
       "      <th>name</th>\n",
       "      <th>online_order</th>\n",
       "      <th>book_table</th>\n",
       "      <th>rate</th>\n",
       "      <th>votes</th>\n",
       "      <th>location</th>\n",
       "      <th>rest_type</th>\n",
       "      <th>cuisines</th>\n",
       "      <th>cost</th>\n",
       "      <th>list_type</th>\n",
       "      <th>city</th>\n",
       "      <th>new_rate</th>\n",
       "    </tr>\n",
       "  </thead>\n",
       "  <tbody>\n",
       "    <tr>\n",
       "      <th>0</th>\n",
       "      <td>Jalsa</td>\n",
       "      <td>Yes</td>\n",
       "      <td>Yes</td>\n",
       "      <td>4.1</td>\n",
       "      <td>775</td>\n",
       "      <td>Banashankari</td>\n",
       "      <td>Casual Dining</td>\n",
       "      <td>North Indian, Mughlai, Chinese</td>\n",
       "      <td>800.0</td>\n",
       "      <td>Buffet</td>\n",
       "      <td>Banashankari</td>\n",
       "      <td>1</td>\n",
       "    </tr>\n",
       "    <tr>\n",
       "      <th>1</th>\n",
       "      <td>Spice Elephant</td>\n",
       "      <td>Yes</td>\n",
       "      <td>No</td>\n",
       "      <td>4.1</td>\n",
       "      <td>787</td>\n",
       "      <td>Banashankari</td>\n",
       "      <td>Casual Dining</td>\n",
       "      <td>Chinese, North Indian, Thai</td>\n",
       "      <td>800.0</td>\n",
       "      <td>Buffet</td>\n",
       "      <td>Banashankari</td>\n",
       "      <td>1</td>\n",
       "    </tr>\n",
       "    <tr>\n",
       "      <th>2</th>\n",
       "      <td>San Churro Cafe</td>\n",
       "      <td>Yes</td>\n",
       "      <td>No</td>\n",
       "      <td>3.8</td>\n",
       "      <td>918</td>\n",
       "      <td>Banashankari</td>\n",
       "      <td>Cafe, Casual Dining</td>\n",
       "      <td>Cafe, Mexican, Italian</td>\n",
       "      <td>800.0</td>\n",
       "      <td>Buffet</td>\n",
       "      <td>Banashankari</td>\n",
       "      <td>1</td>\n",
       "    </tr>\n",
       "    <tr>\n",
       "      <th>3</th>\n",
       "      <td>Addhuri Udupi Bhojana</td>\n",
       "      <td>No</td>\n",
       "      <td>No</td>\n",
       "      <td>3.7</td>\n",
       "      <td>88</td>\n",
       "      <td>Banashankari</td>\n",
       "      <td>Quick Bites</td>\n",
       "      <td>South Indian, North Indian</td>\n",
       "      <td>300.0</td>\n",
       "      <td>Buffet</td>\n",
       "      <td>Banashankari</td>\n",
       "      <td>0</td>\n",
       "    </tr>\n",
       "    <tr>\n",
       "      <th>4</th>\n",
       "      <td>Grand Village</td>\n",
       "      <td>No</td>\n",
       "      <td>No</td>\n",
       "      <td>3.8</td>\n",
       "      <td>166</td>\n",
       "      <td>Basavanagudi</td>\n",
       "      <td>Casual Dining</td>\n",
       "      <td>North Indian, Rajasthani</td>\n",
       "      <td>600.0</td>\n",
       "      <td>Buffet</td>\n",
       "      <td>Banashankari</td>\n",
       "      <td>1</td>\n",
       "    </tr>\n",
       "    <tr>\n",
       "      <th>...</th>\n",
       "      <td>...</td>\n",
       "      <td>...</td>\n",
       "      <td>...</td>\n",
       "      <td>...</td>\n",
       "      <td>...</td>\n",
       "      <td>...</td>\n",
       "      <td>...</td>\n",
       "      <td>...</td>\n",
       "      <td>...</td>\n",
       "      <td>...</td>\n",
       "      <td>...</td>\n",
       "      <td>...</td>\n",
       "    </tr>\n",
       "    <tr>\n",
       "      <th>51709</th>\n",
       "      <td>The Farm House Bar n Grill</td>\n",
       "      <td>No</td>\n",
       "      <td>No</td>\n",
       "      <td>3.7</td>\n",
       "      <td>34</td>\n",
       "      <td>Whitefield</td>\n",
       "      <td>Casual Dining, Bar</td>\n",
       "      <td>North Indian, Continental</td>\n",
       "      <td>800.0</td>\n",
       "      <td>Pubs and bars</td>\n",
       "      <td>Whitefield</td>\n",
       "      <td>0</td>\n",
       "    </tr>\n",
       "    <tr>\n",
       "      <th>51711</th>\n",
       "      <td>Bhagini</td>\n",
       "      <td>No</td>\n",
       "      <td>No</td>\n",
       "      <td>2.5</td>\n",
       "      <td>81</td>\n",
       "      <td>Whitefield</td>\n",
       "      <td>Casual Dining, Bar</td>\n",
       "      <td>Andhra, South Indian, Chinese, North Indian</td>\n",
       "      <td>800.0</td>\n",
       "      <td>Pubs and bars</td>\n",
       "      <td>Whitefield</td>\n",
       "      <td>0</td>\n",
       "    </tr>\n",
       "    <tr>\n",
       "      <th>51712</th>\n",
       "      <td>Best Brews - Four Points by Sheraton Bengaluru...</td>\n",
       "      <td>No</td>\n",
       "      <td>No</td>\n",
       "      <td>3.6</td>\n",
       "      <td>27</td>\n",
       "      <td>Whitefield</td>\n",
       "      <td>Bar</td>\n",
       "      <td>Continental</td>\n",
       "      <td>1500.0</td>\n",
       "      <td>Pubs and bars</td>\n",
       "      <td>Whitefield</td>\n",
       "      <td>0</td>\n",
       "    </tr>\n",
       "    <tr>\n",
       "      <th>51715</th>\n",
       "      <td>Chime - Sheraton Grand Bengaluru Whitefield Ho...</td>\n",
       "      <td>No</td>\n",
       "      <td>Yes</td>\n",
       "      <td>4.3</td>\n",
       "      <td>236</td>\n",
       "      <td>ITPL Main Road, Whitefield</td>\n",
       "      <td>Bar</td>\n",
       "      <td>Finger Food</td>\n",
       "      <td>2500.0</td>\n",
       "      <td>Pubs and bars</td>\n",
       "      <td>Whitefield</td>\n",
       "      <td>1</td>\n",
       "    </tr>\n",
       "    <tr>\n",
       "      <th>51716</th>\n",
       "      <td>The Nest - The Den Bengaluru</td>\n",
       "      <td>No</td>\n",
       "      <td>No</td>\n",
       "      <td>3.4</td>\n",
       "      <td>13</td>\n",
       "      <td>ITPL Main Road, Whitefield</td>\n",
       "      <td>Bar, Casual Dining</td>\n",
       "      <td>Finger Food, North Indian, Continental</td>\n",
       "      <td>1500.0</td>\n",
       "      <td>Pubs and bars</td>\n",
       "      <td>Whitefield</td>\n",
       "      <td>0</td>\n",
       "    </tr>\n",
       "  </tbody>\n",
       "</table>\n",
       "<p>43447 rows × 12 columns</p>\n",
       "</div>"
      ],
      "text/plain": [
       "                                                    name online_order  \\\n",
       "0                                                  Jalsa          Yes   \n",
       "1                                         Spice Elephant          Yes   \n",
       "2                                        San Churro Cafe          Yes   \n",
       "3                                  Addhuri Udupi Bhojana           No   \n",
       "4                                          Grand Village           No   \n",
       "...                                                  ...          ...   \n",
       "51709                         The Farm House Bar n Grill           No   \n",
       "51711                                            Bhagini           No   \n",
       "51712  Best Brews - Four Points by Sheraton Bengaluru...           No   \n",
       "51715  Chime - Sheraton Grand Bengaluru Whitefield Ho...           No   \n",
       "51716                       The Nest - The Den Bengaluru           No   \n",
       "\n",
       "      book_table  rate  votes                    location  \\\n",
       "0            Yes   4.1    775                Banashankari   \n",
       "1             No   4.1    787                Banashankari   \n",
       "2             No   3.8    918                Banashankari   \n",
       "3             No   3.7     88                Banashankari   \n",
       "4             No   3.8    166                Basavanagudi   \n",
       "...          ...   ...    ...                         ...   \n",
       "51709         No   3.7     34                  Whitefield   \n",
       "51711         No   2.5     81                  Whitefield   \n",
       "51712         No   3.6     27                  Whitefield   \n",
       "51715        Yes   4.3    236  ITPL Main Road, Whitefield   \n",
       "51716         No   3.4     13  ITPL Main Road, Whitefield   \n",
       "\n",
       "                 rest_type                                     cuisines  \\\n",
       "0            Casual Dining               North Indian, Mughlai, Chinese   \n",
       "1            Casual Dining                  Chinese, North Indian, Thai   \n",
       "2      Cafe, Casual Dining                       Cafe, Mexican, Italian   \n",
       "3              Quick Bites                   South Indian, North Indian   \n",
       "4            Casual Dining                     North Indian, Rajasthani   \n",
       "...                    ...                                          ...   \n",
       "51709   Casual Dining, Bar                    North Indian, Continental   \n",
       "51711   Casual Dining, Bar  Andhra, South Indian, Chinese, North Indian   \n",
       "51712                  Bar                                  Continental   \n",
       "51715                  Bar                                  Finger Food   \n",
       "51716   Bar, Casual Dining       Finger Food, North Indian, Continental   \n",
       "\n",
       "         cost      list_type          city  new_rate  \n",
       "0       800.0         Buffet  Banashankari         1  \n",
       "1       800.0         Buffet  Banashankari         1  \n",
       "2       800.0         Buffet  Banashankari         1  \n",
       "3       300.0         Buffet  Banashankari         0  \n",
       "4       600.0         Buffet  Banashankari         1  \n",
       "...       ...            ...           ...       ...  \n",
       "51709   800.0  Pubs and bars    Whitefield         0  \n",
       "51711   800.0  Pubs and bars    Whitefield         0  \n",
       "51712  1500.0  Pubs and bars    Whitefield         0  \n",
       "51715  2500.0  Pubs and bars    Whitefield         1  \n",
       "51716  1500.0  Pubs and bars    Whitefield         0  \n",
       "\n",
       "[43447 rows x 12 columns]"
      ]
     },
     "execution_count": 77,
     "metadata": {},
     "output_type": "execute_result"
    }
   ],
   "source": [
    "df"
   ]
  },
  {
   "cell_type": "code",
   "execution_count": 78,
   "metadata": {},
   "outputs": [
    {
     "name": "stdout",
     "output_type": "stream",
     "text": [
      "3198\n"
     ]
    }
   ],
   "source": [
    "\n",
    "for col in ['cost']:\n",
    "    outliers=detect_outliers(df,0,[col])\n",
    "    df.drop(outliers,inplace=True)\n",
    "    print(len(outliers))"
   ]
  },
  {
   "cell_type": "code",
   "execution_count": 79,
   "metadata": {},
   "outputs": [
    {
     "data": {
      "text/plain": [
       "name            0\n",
       "online_order    0\n",
       "book_table      0\n",
       "rate            0\n",
       "votes           0\n",
       "location        0\n",
       "rest_type       0\n",
       "cuisines        0\n",
       "cost            0\n",
       "list_type       0\n",
       "city            0\n",
       "new_rate        0\n",
       "dtype: int64"
      ]
     },
     "execution_count": 79,
     "metadata": {},
     "output_type": "execute_result"
    }
   ],
   "source": [
    "df.isnull().sum()"
   ]
  },
  {
   "cell_type": "code",
   "execution_count": 80,
   "metadata": {},
   "outputs": [
    {
     "data": {
      "text/html": [
       "<div>\n",
       "<style scoped>\n",
       "    .dataframe tbody tr th:only-of-type {\n",
       "        vertical-align: middle;\n",
       "    }\n",
       "\n",
       "    .dataframe tbody tr th {\n",
       "        vertical-align: top;\n",
       "    }\n",
       "\n",
       "    .dataframe thead th {\n",
       "        text-align: right;\n",
       "    }\n",
       "</style>\n",
       "<table border=\"1\" class=\"dataframe\">\n",
       "  <thead>\n",
       "    <tr style=\"text-align: right;\">\n",
       "      <th></th>\n",
       "      <th>name</th>\n",
       "      <th>online_order</th>\n",
       "      <th>book_table</th>\n",
       "      <th>rate</th>\n",
       "      <th>votes</th>\n",
       "      <th>location</th>\n",
       "      <th>rest_type</th>\n",
       "      <th>cuisines</th>\n",
       "      <th>cost</th>\n",
       "      <th>list_type</th>\n",
       "      <th>city</th>\n",
       "      <th>new_rate</th>\n",
       "    </tr>\n",
       "  </thead>\n",
       "  <tbody>\n",
       "    <tr>\n",
       "      <th>0</th>\n",
       "      <td>Jalsa</td>\n",
       "      <td>Yes</td>\n",
       "      <td>Yes</td>\n",
       "      <td>4.1</td>\n",
       "      <td>775</td>\n",
       "      <td>Banashankari</td>\n",
       "      <td>Casual Dining</td>\n",
       "      <td>North Indian, Mughlai, Chinese</td>\n",
       "      <td>800.0</td>\n",
       "      <td>Buffet</td>\n",
       "      <td>Banashankari</td>\n",
       "      <td>1</td>\n",
       "    </tr>\n",
       "    <tr>\n",
       "      <th>1</th>\n",
       "      <td>Spice Elephant</td>\n",
       "      <td>Yes</td>\n",
       "      <td>No</td>\n",
       "      <td>4.1</td>\n",
       "      <td>787</td>\n",
       "      <td>Banashankari</td>\n",
       "      <td>Casual Dining</td>\n",
       "      <td>Chinese, North Indian, Thai</td>\n",
       "      <td>800.0</td>\n",
       "      <td>Buffet</td>\n",
       "      <td>Banashankari</td>\n",
       "      <td>1</td>\n",
       "    </tr>\n",
       "    <tr>\n",
       "      <th>2</th>\n",
       "      <td>San Churro Cafe</td>\n",
       "      <td>Yes</td>\n",
       "      <td>No</td>\n",
       "      <td>3.8</td>\n",
       "      <td>918</td>\n",
       "      <td>Banashankari</td>\n",
       "      <td>Cafe, Casual Dining</td>\n",
       "      <td>Cafe, Mexican, Italian</td>\n",
       "      <td>800.0</td>\n",
       "      <td>Buffet</td>\n",
       "      <td>Banashankari</td>\n",
       "      <td>1</td>\n",
       "    </tr>\n",
       "    <tr>\n",
       "      <th>3</th>\n",
       "      <td>Addhuri Udupi Bhojana</td>\n",
       "      <td>No</td>\n",
       "      <td>No</td>\n",
       "      <td>3.7</td>\n",
       "      <td>88</td>\n",
       "      <td>Banashankari</td>\n",
       "      <td>Quick Bites</td>\n",
       "      <td>South Indian, North Indian</td>\n",
       "      <td>300.0</td>\n",
       "      <td>Buffet</td>\n",
       "      <td>Banashankari</td>\n",
       "      <td>0</td>\n",
       "    </tr>\n",
       "    <tr>\n",
       "      <th>4</th>\n",
       "      <td>Grand Village</td>\n",
       "      <td>No</td>\n",
       "      <td>No</td>\n",
       "      <td>3.8</td>\n",
       "      <td>166</td>\n",
       "      <td>Basavanagudi</td>\n",
       "      <td>Casual Dining</td>\n",
       "      <td>North Indian, Rajasthani</td>\n",
       "      <td>600.0</td>\n",
       "      <td>Buffet</td>\n",
       "      <td>Banashankari</td>\n",
       "      <td>1</td>\n",
       "    </tr>\n",
       "    <tr>\n",
       "      <th>...</th>\n",
       "      <td>...</td>\n",
       "      <td>...</td>\n",
       "      <td>...</td>\n",
       "      <td>...</td>\n",
       "      <td>...</td>\n",
       "      <td>...</td>\n",
       "      <td>...</td>\n",
       "      <td>...</td>\n",
       "      <td>...</td>\n",
       "      <td>...</td>\n",
       "      <td>...</td>\n",
       "      <td>...</td>\n",
       "    </tr>\n",
       "    <tr>\n",
       "      <th>51705</th>\n",
       "      <td>Izakaya Gastro Pub</td>\n",
       "      <td>Yes</td>\n",
       "      <td>Yes</td>\n",
       "      <td>3.8</td>\n",
       "      <td>128</td>\n",
       "      <td>Whitefield</td>\n",
       "      <td>Bar, Casual Dining</td>\n",
       "      <td>North Indian, Continental, Mediterranean</td>\n",
       "      <td>1200.0</td>\n",
       "      <td>Pubs and bars</td>\n",
       "      <td>Whitefield</td>\n",
       "      <td>1</td>\n",
       "    </tr>\n",
       "    <tr>\n",
       "      <th>51706</th>\n",
       "      <td>Red Glow</td>\n",
       "      <td>No</td>\n",
       "      <td>No</td>\n",
       "      <td>3.7</td>\n",
       "      <td>27</td>\n",
       "      <td>Whitefield</td>\n",
       "      <td>Pub</td>\n",
       "      <td>North Indian, Continental</td>\n",
       "      <td>1200.0</td>\n",
       "      <td>Pubs and bars</td>\n",
       "      <td>Whitefield</td>\n",
       "      <td>0</td>\n",
       "    </tr>\n",
       "    <tr>\n",
       "      <th>51708</th>\n",
       "      <td>Keys Cafe - Keys Hotel</td>\n",
       "      <td>No</td>\n",
       "      <td>No</td>\n",
       "      <td>2.8</td>\n",
       "      <td>161</td>\n",
       "      <td>Whitefield</td>\n",
       "      <td>Casual Dining, Bar</td>\n",
       "      <td>Chinese, Continental, North Indian</td>\n",
       "      <td>1200.0</td>\n",
       "      <td>Pubs and bars</td>\n",
       "      <td>Whitefield</td>\n",
       "      <td>0</td>\n",
       "    </tr>\n",
       "    <tr>\n",
       "      <th>51709</th>\n",
       "      <td>The Farm House Bar n Grill</td>\n",
       "      <td>No</td>\n",
       "      <td>No</td>\n",
       "      <td>3.7</td>\n",
       "      <td>34</td>\n",
       "      <td>Whitefield</td>\n",
       "      <td>Casual Dining, Bar</td>\n",
       "      <td>North Indian, Continental</td>\n",
       "      <td>800.0</td>\n",
       "      <td>Pubs and bars</td>\n",
       "      <td>Whitefield</td>\n",
       "      <td>0</td>\n",
       "    </tr>\n",
       "    <tr>\n",
       "      <th>51711</th>\n",
       "      <td>Bhagini</td>\n",
       "      <td>No</td>\n",
       "      <td>No</td>\n",
       "      <td>2.5</td>\n",
       "      <td>81</td>\n",
       "      <td>Whitefield</td>\n",
       "      <td>Casual Dining, Bar</td>\n",
       "      <td>Andhra, South Indian, Chinese, North Indian</td>\n",
       "      <td>800.0</td>\n",
       "      <td>Pubs and bars</td>\n",
       "      <td>Whitefield</td>\n",
       "      <td>0</td>\n",
       "    </tr>\n",
       "  </tbody>\n",
       "</table>\n",
       "<p>40249 rows × 12 columns</p>\n",
       "</div>"
      ],
      "text/plain": [
       "                             name online_order book_table  rate  votes  \\\n",
       "0                           Jalsa          Yes        Yes   4.1    775   \n",
       "1                  Spice Elephant          Yes         No   4.1    787   \n",
       "2                 San Churro Cafe          Yes         No   3.8    918   \n",
       "3           Addhuri Udupi Bhojana           No         No   3.7     88   \n",
       "4                   Grand Village           No         No   3.8    166   \n",
       "...                           ...          ...        ...   ...    ...   \n",
       "51705          Izakaya Gastro Pub          Yes        Yes   3.8    128   \n",
       "51706                    Red Glow           No         No   3.7     27   \n",
       "51708      Keys Cafe - Keys Hotel           No         No   2.8    161   \n",
       "51709  The Farm House Bar n Grill           No         No   3.7     34   \n",
       "51711                     Bhagini           No         No   2.5     81   \n",
       "\n",
       "           location            rest_type  \\\n",
       "0      Banashankari        Casual Dining   \n",
       "1      Banashankari        Casual Dining   \n",
       "2      Banashankari  Cafe, Casual Dining   \n",
       "3      Banashankari          Quick Bites   \n",
       "4      Basavanagudi        Casual Dining   \n",
       "...             ...                  ...   \n",
       "51705    Whitefield   Bar, Casual Dining   \n",
       "51706    Whitefield                  Pub   \n",
       "51708    Whitefield   Casual Dining, Bar   \n",
       "51709    Whitefield   Casual Dining, Bar   \n",
       "51711    Whitefield   Casual Dining, Bar   \n",
       "\n",
       "                                          cuisines    cost      list_type  \\\n",
       "0                   North Indian, Mughlai, Chinese   800.0         Buffet   \n",
       "1                      Chinese, North Indian, Thai   800.0         Buffet   \n",
       "2                           Cafe, Mexican, Italian   800.0         Buffet   \n",
       "3                       South Indian, North Indian   300.0         Buffet   \n",
       "4                         North Indian, Rajasthani   600.0         Buffet   \n",
       "...                                            ...     ...            ...   \n",
       "51705     North Indian, Continental, Mediterranean  1200.0  Pubs and bars   \n",
       "51706                    North Indian, Continental  1200.0  Pubs and bars   \n",
       "51708           Chinese, Continental, North Indian  1200.0  Pubs and bars   \n",
       "51709                    North Indian, Continental   800.0  Pubs and bars   \n",
       "51711  Andhra, South Indian, Chinese, North Indian   800.0  Pubs and bars   \n",
       "\n",
       "               city  new_rate  \n",
       "0      Banashankari         1  \n",
       "1      Banashankari         1  \n",
       "2      Banashankari         1  \n",
       "3      Banashankari         0  \n",
       "4      Banashankari         1  \n",
       "...             ...       ...  \n",
       "51705    Whitefield         1  \n",
       "51706    Whitefield         0  \n",
       "51708    Whitefield         0  \n",
       "51709    Whitefield         0  \n",
       "51711    Whitefield         0  \n",
       "\n",
       "[40249 rows x 12 columns]"
      ]
     },
     "execution_count": 80,
     "metadata": {},
     "output_type": "execute_result"
    }
   ],
   "source": [
    "df"
   ]
  },
  {
   "cell_type": "code",
   "execution_count": 81,
   "metadata": {},
   "outputs": [],
   "source": [
    "#preprocessing\n",
    "df['rest_type']=df['rest_type'].apply(lambda c:len(c.split(',')))\n",
    "df['cuisines']=df['cuisines'].apply(lambda c:len(c.split(',')))"
   ]
  },
  {
   "cell_type": "code",
   "execution_count": 82,
   "metadata": {},
   "outputs": [
    {
     "data": {
      "text/html": [
       "<div>\n",
       "<style scoped>\n",
       "    .dataframe tbody tr th:only-of-type {\n",
       "        vertical-align: middle;\n",
       "    }\n",
       "\n",
       "    .dataframe tbody tr th {\n",
       "        vertical-align: top;\n",
       "    }\n",
       "\n",
       "    .dataframe thead th {\n",
       "        text-align: right;\n",
       "    }\n",
       "</style>\n",
       "<table border=\"1\" class=\"dataframe\">\n",
       "  <thead>\n",
       "    <tr style=\"text-align: right;\">\n",
       "      <th></th>\n",
       "      <th>name</th>\n",
       "      <th>online_order</th>\n",
       "      <th>book_table</th>\n",
       "      <th>rate</th>\n",
       "      <th>votes</th>\n",
       "      <th>location</th>\n",
       "      <th>rest_type</th>\n",
       "      <th>cuisines</th>\n",
       "      <th>cost</th>\n",
       "      <th>list_type</th>\n",
       "      <th>city</th>\n",
       "      <th>new_rate</th>\n",
       "    </tr>\n",
       "  </thead>\n",
       "  <tbody>\n",
       "    <tr>\n",
       "      <th>0</th>\n",
       "      <td>Jalsa</td>\n",
       "      <td>Yes</td>\n",
       "      <td>Yes</td>\n",
       "      <td>4.1</td>\n",
       "      <td>775</td>\n",
       "      <td>Banashankari</td>\n",
       "      <td>1</td>\n",
       "      <td>3</td>\n",
       "      <td>800.0</td>\n",
       "      <td>Buffet</td>\n",
       "      <td>Banashankari</td>\n",
       "      <td>1</td>\n",
       "    </tr>\n",
       "    <tr>\n",
       "      <th>1</th>\n",
       "      <td>Spice Elephant</td>\n",
       "      <td>Yes</td>\n",
       "      <td>No</td>\n",
       "      <td>4.1</td>\n",
       "      <td>787</td>\n",
       "      <td>Banashankari</td>\n",
       "      <td>1</td>\n",
       "      <td>3</td>\n",
       "      <td>800.0</td>\n",
       "      <td>Buffet</td>\n",
       "      <td>Banashankari</td>\n",
       "      <td>1</td>\n",
       "    </tr>\n",
       "    <tr>\n",
       "      <th>2</th>\n",
       "      <td>San Churro Cafe</td>\n",
       "      <td>Yes</td>\n",
       "      <td>No</td>\n",
       "      <td>3.8</td>\n",
       "      <td>918</td>\n",
       "      <td>Banashankari</td>\n",
       "      <td>2</td>\n",
       "      <td>3</td>\n",
       "      <td>800.0</td>\n",
       "      <td>Buffet</td>\n",
       "      <td>Banashankari</td>\n",
       "      <td>1</td>\n",
       "    </tr>\n",
       "    <tr>\n",
       "      <th>3</th>\n",
       "      <td>Addhuri Udupi Bhojana</td>\n",
       "      <td>No</td>\n",
       "      <td>No</td>\n",
       "      <td>3.7</td>\n",
       "      <td>88</td>\n",
       "      <td>Banashankari</td>\n",
       "      <td>1</td>\n",
       "      <td>2</td>\n",
       "      <td>300.0</td>\n",
       "      <td>Buffet</td>\n",
       "      <td>Banashankari</td>\n",
       "      <td>0</td>\n",
       "    </tr>\n",
       "    <tr>\n",
       "      <th>4</th>\n",
       "      <td>Grand Village</td>\n",
       "      <td>No</td>\n",
       "      <td>No</td>\n",
       "      <td>3.8</td>\n",
       "      <td>166</td>\n",
       "      <td>Basavanagudi</td>\n",
       "      <td>1</td>\n",
       "      <td>2</td>\n",
       "      <td>600.0</td>\n",
       "      <td>Buffet</td>\n",
       "      <td>Banashankari</td>\n",
       "      <td>1</td>\n",
       "    </tr>\n",
       "    <tr>\n",
       "      <th>...</th>\n",
       "      <td>...</td>\n",
       "      <td>...</td>\n",
       "      <td>...</td>\n",
       "      <td>...</td>\n",
       "      <td>...</td>\n",
       "      <td>...</td>\n",
       "      <td>...</td>\n",
       "      <td>...</td>\n",
       "      <td>...</td>\n",
       "      <td>...</td>\n",
       "      <td>...</td>\n",
       "      <td>...</td>\n",
       "    </tr>\n",
       "    <tr>\n",
       "      <th>51705</th>\n",
       "      <td>Izakaya Gastro Pub</td>\n",
       "      <td>Yes</td>\n",
       "      <td>Yes</td>\n",
       "      <td>3.8</td>\n",
       "      <td>128</td>\n",
       "      <td>Whitefield</td>\n",
       "      <td>2</td>\n",
       "      <td>3</td>\n",
       "      <td>1200.0</td>\n",
       "      <td>Pubs and bars</td>\n",
       "      <td>Whitefield</td>\n",
       "      <td>1</td>\n",
       "    </tr>\n",
       "    <tr>\n",
       "      <th>51706</th>\n",
       "      <td>Red Glow</td>\n",
       "      <td>No</td>\n",
       "      <td>No</td>\n",
       "      <td>3.7</td>\n",
       "      <td>27</td>\n",
       "      <td>Whitefield</td>\n",
       "      <td>1</td>\n",
       "      <td>2</td>\n",
       "      <td>1200.0</td>\n",
       "      <td>Pubs and bars</td>\n",
       "      <td>Whitefield</td>\n",
       "      <td>0</td>\n",
       "    </tr>\n",
       "    <tr>\n",
       "      <th>51708</th>\n",
       "      <td>Keys Cafe - Keys Hotel</td>\n",
       "      <td>No</td>\n",
       "      <td>No</td>\n",
       "      <td>2.8</td>\n",
       "      <td>161</td>\n",
       "      <td>Whitefield</td>\n",
       "      <td>2</td>\n",
       "      <td>3</td>\n",
       "      <td>1200.0</td>\n",
       "      <td>Pubs and bars</td>\n",
       "      <td>Whitefield</td>\n",
       "      <td>0</td>\n",
       "    </tr>\n",
       "    <tr>\n",
       "      <th>51709</th>\n",
       "      <td>The Farm House Bar n Grill</td>\n",
       "      <td>No</td>\n",
       "      <td>No</td>\n",
       "      <td>3.7</td>\n",
       "      <td>34</td>\n",
       "      <td>Whitefield</td>\n",
       "      <td>2</td>\n",
       "      <td>2</td>\n",
       "      <td>800.0</td>\n",
       "      <td>Pubs and bars</td>\n",
       "      <td>Whitefield</td>\n",
       "      <td>0</td>\n",
       "    </tr>\n",
       "    <tr>\n",
       "      <th>51711</th>\n",
       "      <td>Bhagini</td>\n",
       "      <td>No</td>\n",
       "      <td>No</td>\n",
       "      <td>2.5</td>\n",
       "      <td>81</td>\n",
       "      <td>Whitefield</td>\n",
       "      <td>2</td>\n",
       "      <td>4</td>\n",
       "      <td>800.0</td>\n",
       "      <td>Pubs and bars</td>\n",
       "      <td>Whitefield</td>\n",
       "      <td>0</td>\n",
       "    </tr>\n",
       "  </tbody>\n",
       "</table>\n",
       "<p>40249 rows × 12 columns</p>\n",
       "</div>"
      ],
      "text/plain": [
       "                             name online_order book_table  rate  votes  \\\n",
       "0                           Jalsa          Yes        Yes   4.1    775   \n",
       "1                  Spice Elephant          Yes         No   4.1    787   \n",
       "2                 San Churro Cafe          Yes         No   3.8    918   \n",
       "3           Addhuri Udupi Bhojana           No         No   3.7     88   \n",
       "4                   Grand Village           No         No   3.8    166   \n",
       "...                           ...          ...        ...   ...    ...   \n",
       "51705          Izakaya Gastro Pub          Yes        Yes   3.8    128   \n",
       "51706                    Red Glow           No         No   3.7     27   \n",
       "51708      Keys Cafe - Keys Hotel           No         No   2.8    161   \n",
       "51709  The Farm House Bar n Grill           No         No   3.7     34   \n",
       "51711                     Bhagini           No         No   2.5     81   \n",
       "\n",
       "           location  rest_type  cuisines    cost      list_type          city  \\\n",
       "0      Banashankari          1         3   800.0         Buffet  Banashankari   \n",
       "1      Banashankari          1         3   800.0         Buffet  Banashankari   \n",
       "2      Banashankari          2         3   800.0         Buffet  Banashankari   \n",
       "3      Banashankari          1         2   300.0         Buffet  Banashankari   \n",
       "4      Basavanagudi          1         2   600.0         Buffet  Banashankari   \n",
       "...             ...        ...       ...     ...            ...           ...   \n",
       "51705    Whitefield          2         3  1200.0  Pubs and bars    Whitefield   \n",
       "51706    Whitefield          1         2  1200.0  Pubs and bars    Whitefield   \n",
       "51708    Whitefield          2         3  1200.0  Pubs and bars    Whitefield   \n",
       "51709    Whitefield          2         2   800.0  Pubs and bars    Whitefield   \n",
       "51711    Whitefield          2         4   800.0  Pubs and bars    Whitefield   \n",
       "\n",
       "       new_rate  \n",
       "0             1  \n",
       "1             1  \n",
       "2             1  \n",
       "3             0  \n",
       "4             1  \n",
       "...         ...  \n",
       "51705         1  \n",
       "51706         0  \n",
       "51708         0  \n",
       "51709         0  \n",
       "51711         0  \n",
       "\n",
       "[40249 rows x 12 columns]"
      ]
     },
     "execution_count": 82,
     "metadata": {},
     "output_type": "execute_result"
    }
   ],
   "source": [
    "df"
   ]
  },
  {
   "cell_type": "code",
   "execution_count": 83,
   "metadata": {},
   "outputs": [
    {
     "data": {
      "text/plain": [
       "dtype('int64')"
      ]
     },
     "execution_count": 83,
     "metadata": {},
     "output_type": "execute_result"
    }
   ],
   "source": [
    "df['rest_type'].dtype"
   ]
  },
  {
   "cell_type": "markdown",
   "metadata": {},
   "source": [
    "# building machine learning model"
   ]
  },
  {
   "cell_type": "code",
   "execution_count": 84,
   "metadata": {},
   "outputs": [],
   "source": [
    "df.drop(['rate', 'name'] , axis = 1 , inplace = True)"
   ]
  },
  {
   "cell_type": "code",
   "execution_count": 85,
   "metadata": {},
   "outputs": [
    {
     "data": {
      "text/plain": [
       "Index(['online_order', 'book_table', 'votes', 'location', 'rest_type',\n",
       "       'cuisines', 'cost', 'list_type', 'city', 'new_rate'],\n",
       "      dtype='object')"
      ]
     },
     "execution_count": 85,
     "metadata": {},
     "output_type": "execute_result"
    }
   ],
   "source": [
    "df.columns"
   ]
  },
  {
   "cell_type": "code",
   "execution_count": 86,
   "metadata": {},
   "outputs": [],
   "source": [
    "categorical=df.select_dtypes(include='object_')\n",
    "numerical=df.select_dtypes(include='number')"
   ]
  },
  {
   "cell_type": "code",
   "execution_count": 87,
   "metadata": {},
   "outputs": [
    {
     "name": "stdout",
     "output_type": "stream",
     "text": [
      "category online_order has 2 values\n",
      "category book_table has 2 values\n",
      "category location has 92 values\n",
      "category list_type has 7 values\n",
      "category city has 30 values\n"
     ]
    }
   ],
   "source": [
    "for f in categorical.columns:\n",
    "    print('category {} has {} values'.format(f,categorical[f].nunique()))"
   ]
  },
  {
   "cell_type": "code",
   "execution_count": 88,
   "metadata": {},
   "outputs": [
    {
     "data": {
      "text/plain": [
       "BTM                      10.387836\n",
       "Koramangala 5th Block     5.304480\n",
       "HSR                       5.152923\n",
       "JP Nagar                  4.464707\n",
       "Indiranagar               4.178986\n",
       "                           ...    \n",
       "Yelahanka                 0.009938\n",
       "Sankey Road               0.007454\n",
       "Rajarajeshwari Nagar      0.004969\n",
       "Nagarbhavi                0.002485\n",
       "Peenya                    0.002485\n",
       "Name: location, Length: 92, dtype: float64"
      ]
     },
     "execution_count": 88,
     "metadata": {},
     "output_type": "execute_result"
    }
   ],
   "source": [
    "#location\n",
    "loc=df['location'].value_counts(normalize=True)*100\n",
    "loc"
   ]
  },
  {
   "cell_type": "code",
   "execution_count": 89,
   "metadata": {},
   "outputs": [],
   "source": [
    "loc_values=loc.values"
   ]
  },
  {
   "cell_type": "code",
   "execution_count": 90,
   "metadata": {},
   "outputs": [
    {
     "data": {
      "text/plain": [
       "BTM                      10.387836\n",
       "Koramangala 5th Block     5.304480\n",
       "HSR                       5.152923\n",
       "JP Nagar                  4.464707\n",
       "Indiranagar               4.178986\n",
       "Jayanagar                 4.146687\n",
       "Whitefield                3.669656\n",
       "Marathahalli              3.475863\n",
       "Bannerghatta Road         3.242317\n",
       "Koramangala 6th Block     2.487018\n",
       "Bellandur                 2.447266\n",
       "Koramangala 7th Block     2.442297\n",
       "Koramangala 1st Block     2.375214\n",
       "Brigade Road              2.303163\n",
       "Electronic City           2.231111\n",
       "Banashankari              1.995081\n",
       "Sarjapur Road             1.985142\n",
       "Koramangala 4th Block     1.920545\n",
       "Ulsoor                    1.786380\n",
       "Kalyan Nagar              1.729236\n",
       "Basavanagudi              1.545380\n",
       "Malleshwaram              1.448483\n",
       "Brookefield               1.421153\n",
       "Frazer Town               1.403762\n",
       "Richmond Road             1.274566\n",
       "Kammanahalli              1.257174\n",
       "New BEL Road              1.252205\n",
       "MG Road                   1.212452\n",
       "Church Street             1.200030\n",
       "Banaswadi                 1.197545\n",
       "Rajajinagar               1.177669\n",
       "Residency Road            1.125494\n",
       "Cunningham Road           1.018659\n",
       "Name: location, dtype: float64"
      ]
     },
     "execution_count": 90,
     "metadata": {},
     "output_type": "execute_result"
    }
   ],
   "source": [
    "#put threshold\n",
    "loc[loc_values>1]\n"
   ]
  },
  {
   "cell_type": "code",
   "execution_count": 91,
   "metadata": {},
   "outputs": [
    {
     "data": {
      "text/plain": [
       "Index(['BTM', 'Koramangala 5th Block', 'HSR', 'JP Nagar', 'Indiranagar',\n",
       "       'Jayanagar', 'Whitefield', 'Marathahalli', 'Bannerghatta Road',\n",
       "       'Koramangala 6th Block', 'Bellandur', 'Koramangala 7th Block',\n",
       "       'Koramangala 1st Block', 'Brigade Road', 'Electronic City',\n",
       "       'Banashankari', 'Sarjapur Road', 'Koramangala 4th Block', 'Ulsoor',\n",
       "       'Kalyan Nagar', 'Basavanagudi', 'Malleshwaram', 'Brookefield',\n",
       "       'Frazer Town', 'Richmond Road', 'Kammanahalli', 'New BEL Road',\n",
       "       'MG Road', 'Church Street', 'Banaswadi', 'Rajajinagar',\n",
       "       'Residency Road', 'Cunningham Road'],\n",
       "      dtype='object')"
      ]
     },
     "execution_count": 91,
     "metadata": {},
     "output_type": "execute_result"
    }
   ],
   "source": [
    "important_loc=loc[loc_values>1].index\n",
    "important_loc"
   ]
  },
  {
   "cell_type": "code",
   "execution_count": 92,
   "metadata": {},
   "outputs": [],
   "source": [
    "def locc(l):\n",
    "    if l in important_loc:\n",
    "        return l\n",
    "    else:\n",
    "        return 'not important'\n",
    "df['location']=df['location'].apply(locc)    "
   ]
  },
  {
   "cell_type": "code",
   "execution_count": 93,
   "metadata": {},
   "outputs": [
    {
     "data": {
      "text/plain": [
       "not important            6335\n",
       "BTM                      4181\n",
       "Koramangala 5th Block    2135\n",
       "HSR                      2074\n",
       "JP Nagar                 1797\n",
       "Indiranagar              1682\n",
       "Jayanagar                1669\n",
       "Whitefield               1477\n",
       "Marathahalli             1399\n",
       "Bannerghatta Road        1305\n",
       "Koramangala 6th Block    1001\n",
       "Bellandur                 985\n",
       "Koramangala 7th Block     983\n",
       "Koramangala 1st Block     956\n",
       "Brigade Road              927\n",
       "Electronic City           898\n",
       "Banashankari              803\n",
       "Sarjapur Road             799\n",
       "Koramangala 4th Block     773\n",
       "Ulsoor                    719\n",
       "Kalyan Nagar              696\n",
       "Basavanagudi              622\n",
       "Malleshwaram              583\n",
       "Brookefield               572\n",
       "Frazer Town               565\n",
       "Richmond Road             513\n",
       "Kammanahalli              506\n",
       "New BEL Road              504\n",
       "MG Road                   488\n",
       "Church Street             483\n",
       "Banaswadi                 482\n",
       "Rajajinagar               474\n",
       "Residency Road            453\n",
       "Cunningham Road           410\n",
       "Name: location, dtype: int64"
      ]
     },
     "execution_count": 93,
     "metadata": {},
     "output_type": "execute_result"
    }
   ],
   "source": [
    "df['location'].value_counts()"
   ]
  },
  {
   "cell_type": "code",
   "execution_count": 94,
   "metadata": {},
   "outputs": [
    {
     "data": {
      "text/plain": [
       "Delivery              52.232354\n",
       "Dine-out              33.364804\n",
       "Desserts               7.003901\n",
       "Cafes                  3.865935\n",
       "Drinks & nightlife     1.314318\n",
       "Buffet                 1.262143\n",
       "Pubs and bars          0.956546\n",
       "Name: list_type, dtype: float64"
      ]
     },
     "execution_count": 94,
     "metadata": {},
     "output_type": "execute_result"
    }
   ],
   "source": [
    "df['list_type'].value_counts(normalize=True)*100"
   ]
  },
  {
   "cell_type": "code",
   "execution_count": 95,
   "metadata": {},
   "outputs": [
    {
     "name": "stdout",
     "output_type": "stream",
     "text": [
      "category online_order has 2 values\n",
      "category book_table has 2 values\n",
      "category location has 34 values\n",
      "category list_type has 7 values\n",
      "category city has 30 values\n"
     ]
    }
   ],
   "source": [
    "for f in categorical.columns:\n",
    "    print('category {} has {} values'.format(f,df[f].nunique()))"
   ]
  },
  {
   "cell_type": "code",
   "execution_count": 96,
   "metadata": {},
   "outputs": [],
   "source": [
    "#encoding\n",
    "Encoder=ColumnTransformer(transformers=[('OHE',OneHotEncoder(sparse=False,drop='first'),['online_order','book_table','list_type']),('BIN',BinaryEncoder(),['location','city'])],remainder='passthrough')"
   ]
  },
  {
   "cell_type": "code",
   "execution_count": 97,
   "metadata": {},
   "outputs": [
    {
     "data": {
      "text/html": [
       "<div>\n",
       "<style scoped>\n",
       "    .dataframe tbody tr th:only-of-type {\n",
       "        vertical-align: middle;\n",
       "    }\n",
       "\n",
       "    .dataframe tbody tr th {\n",
       "        vertical-align: top;\n",
       "    }\n",
       "\n",
       "    .dataframe thead th {\n",
       "        text-align: right;\n",
       "    }\n",
       "</style>\n",
       "<table border=\"1\" class=\"dataframe\">\n",
       "  <thead>\n",
       "    <tr style=\"text-align: right;\">\n",
       "      <th></th>\n",
       "      <th>online_order</th>\n",
       "      <th>book_table</th>\n",
       "      <th>votes</th>\n",
       "      <th>location</th>\n",
       "      <th>rest_type</th>\n",
       "      <th>cuisines</th>\n",
       "      <th>cost</th>\n",
       "      <th>list_type</th>\n",
       "      <th>city</th>\n",
       "      <th>new_rate</th>\n",
       "    </tr>\n",
       "  </thead>\n",
       "  <tbody>\n",
       "    <tr>\n",
       "      <th>0</th>\n",
       "      <td>Yes</td>\n",
       "      <td>Yes</td>\n",
       "      <td>775</td>\n",
       "      <td>Banashankari</td>\n",
       "      <td>1</td>\n",
       "      <td>3</td>\n",
       "      <td>800.0</td>\n",
       "      <td>Buffet</td>\n",
       "      <td>Banashankari</td>\n",
       "      <td>1</td>\n",
       "    </tr>\n",
       "    <tr>\n",
       "      <th>1</th>\n",
       "      <td>Yes</td>\n",
       "      <td>No</td>\n",
       "      <td>787</td>\n",
       "      <td>Banashankari</td>\n",
       "      <td>1</td>\n",
       "      <td>3</td>\n",
       "      <td>800.0</td>\n",
       "      <td>Buffet</td>\n",
       "      <td>Banashankari</td>\n",
       "      <td>1</td>\n",
       "    </tr>\n",
       "    <tr>\n",
       "      <th>2</th>\n",
       "      <td>Yes</td>\n",
       "      <td>No</td>\n",
       "      <td>918</td>\n",
       "      <td>Banashankari</td>\n",
       "      <td>2</td>\n",
       "      <td>3</td>\n",
       "      <td>800.0</td>\n",
       "      <td>Buffet</td>\n",
       "      <td>Banashankari</td>\n",
       "      <td>1</td>\n",
       "    </tr>\n",
       "    <tr>\n",
       "      <th>3</th>\n",
       "      <td>No</td>\n",
       "      <td>No</td>\n",
       "      <td>88</td>\n",
       "      <td>Banashankari</td>\n",
       "      <td>1</td>\n",
       "      <td>2</td>\n",
       "      <td>300.0</td>\n",
       "      <td>Buffet</td>\n",
       "      <td>Banashankari</td>\n",
       "      <td>0</td>\n",
       "    </tr>\n",
       "    <tr>\n",
       "      <th>4</th>\n",
       "      <td>No</td>\n",
       "      <td>No</td>\n",
       "      <td>166</td>\n",
       "      <td>Basavanagudi</td>\n",
       "      <td>1</td>\n",
       "      <td>2</td>\n",
       "      <td>600.0</td>\n",
       "      <td>Buffet</td>\n",
       "      <td>Banashankari</td>\n",
       "      <td>1</td>\n",
       "    </tr>\n",
       "    <tr>\n",
       "      <th>...</th>\n",
       "      <td>...</td>\n",
       "      <td>...</td>\n",
       "      <td>...</td>\n",
       "      <td>...</td>\n",
       "      <td>...</td>\n",
       "      <td>...</td>\n",
       "      <td>...</td>\n",
       "      <td>...</td>\n",
       "      <td>...</td>\n",
       "      <td>...</td>\n",
       "    </tr>\n",
       "    <tr>\n",
       "      <th>51705</th>\n",
       "      <td>Yes</td>\n",
       "      <td>Yes</td>\n",
       "      <td>128</td>\n",
       "      <td>Whitefield</td>\n",
       "      <td>2</td>\n",
       "      <td>3</td>\n",
       "      <td>1200.0</td>\n",
       "      <td>Pubs and bars</td>\n",
       "      <td>Whitefield</td>\n",
       "      <td>1</td>\n",
       "    </tr>\n",
       "    <tr>\n",
       "      <th>51706</th>\n",
       "      <td>No</td>\n",
       "      <td>No</td>\n",
       "      <td>27</td>\n",
       "      <td>Whitefield</td>\n",
       "      <td>1</td>\n",
       "      <td>2</td>\n",
       "      <td>1200.0</td>\n",
       "      <td>Pubs and bars</td>\n",
       "      <td>Whitefield</td>\n",
       "      <td>0</td>\n",
       "    </tr>\n",
       "    <tr>\n",
       "      <th>51708</th>\n",
       "      <td>No</td>\n",
       "      <td>No</td>\n",
       "      <td>161</td>\n",
       "      <td>Whitefield</td>\n",
       "      <td>2</td>\n",
       "      <td>3</td>\n",
       "      <td>1200.0</td>\n",
       "      <td>Pubs and bars</td>\n",
       "      <td>Whitefield</td>\n",
       "      <td>0</td>\n",
       "    </tr>\n",
       "    <tr>\n",
       "      <th>51709</th>\n",
       "      <td>No</td>\n",
       "      <td>No</td>\n",
       "      <td>34</td>\n",
       "      <td>Whitefield</td>\n",
       "      <td>2</td>\n",
       "      <td>2</td>\n",
       "      <td>800.0</td>\n",
       "      <td>Pubs and bars</td>\n",
       "      <td>Whitefield</td>\n",
       "      <td>0</td>\n",
       "    </tr>\n",
       "    <tr>\n",
       "      <th>51711</th>\n",
       "      <td>No</td>\n",
       "      <td>No</td>\n",
       "      <td>81</td>\n",
       "      <td>Whitefield</td>\n",
       "      <td>2</td>\n",
       "      <td>4</td>\n",
       "      <td>800.0</td>\n",
       "      <td>Pubs and bars</td>\n",
       "      <td>Whitefield</td>\n",
       "      <td>0</td>\n",
       "    </tr>\n",
       "  </tbody>\n",
       "</table>\n",
       "<p>40249 rows × 10 columns</p>\n",
       "</div>"
      ],
      "text/plain": [
       "      online_order book_table  votes      location  rest_type  cuisines  \\\n",
       "0              Yes        Yes    775  Banashankari          1         3   \n",
       "1              Yes         No    787  Banashankari          1         3   \n",
       "2              Yes         No    918  Banashankari          2         3   \n",
       "3               No         No     88  Banashankari          1         2   \n",
       "4               No         No    166  Basavanagudi          1         2   \n",
       "...            ...        ...    ...           ...        ...       ...   \n",
       "51705          Yes        Yes    128    Whitefield          2         3   \n",
       "51706           No         No     27    Whitefield          1         2   \n",
       "51708           No         No    161    Whitefield          2         3   \n",
       "51709           No         No     34    Whitefield          2         2   \n",
       "51711           No         No     81    Whitefield          2         4   \n",
       "\n",
       "         cost      list_type          city  new_rate  \n",
       "0       800.0         Buffet  Banashankari         1  \n",
       "1       800.0         Buffet  Banashankari         1  \n",
       "2       800.0         Buffet  Banashankari         1  \n",
       "3       300.0         Buffet  Banashankari         0  \n",
       "4       600.0         Buffet  Banashankari         1  \n",
       "...       ...            ...           ...       ...  \n",
       "51705  1200.0  Pubs and bars    Whitefield         1  \n",
       "51706  1200.0  Pubs and bars    Whitefield         0  \n",
       "51708  1200.0  Pubs and bars    Whitefield         0  \n",
       "51709   800.0  Pubs and bars    Whitefield         0  \n",
       "51711   800.0  Pubs and bars    Whitefield         0  \n",
       "\n",
       "[40249 rows x 10 columns]"
      ]
     },
     "execution_count": 97,
     "metadata": {},
     "output_type": "execute_result"
    }
   ],
   "source": [
    "df"
   ]
  },
  {
   "cell_type": "code",
   "execution_count": 98,
   "metadata": {},
   "outputs": [],
   "source": [
    "x=df.drop('new_rate',axis=1)\n",
    "y=df['new_rate']"
   ]
  },
  {
   "cell_type": "code",
   "execution_count": 99,
   "metadata": {},
   "outputs": [],
   "source": [
    "models=list()\n",
    "models.append(('logistic',LogisticRegression()))\n",
    "models.append(('xg',XGBClassifier()))\n",
    "models.append(('knn',KNeighborsClassifier()))\n",
    "models.append(('random',RandomForestClassifier()))\n",
    "models.append(('decision',DecisionTreeClassifier()))"
   ]
  },
  {
   "cell_type": "code",
   "execution_count": 100,
   "metadata": {},
   "outputs": [
    {
     "name": "stdout",
     "output_type": "stream",
     "text": [
      "logistic\n",
      "train_accuracy 0.7329623164486223\n",
      "----\n",
      "test_accuracy 0.7306765749226978\n",
      "--------------------\n",
      "\n",
      "\n",
      "xg\n",
      "train_accuracy 0.9156686541131347\n",
      "----\n",
      "test_accuracy 0.8506538908810863\n",
      "--------------------\n",
      "\n",
      "\n",
      "knn\n",
      "train_accuracy 0.8295485529719201\n",
      "----\n",
      "test_accuracy 0.7471489425406034\n",
      "--------------------\n",
      "\n",
      "\n",
      "random\n",
      "train_accuracy 0.9987577340756889\n",
      "----\n",
      "test_accuracy 0.8702321417960951\n",
      "--------------------\n",
      "\n",
      "\n",
      "decision\n",
      "train_accuracy 0.9987639452558131\n",
      "----\n",
      "test_accuracy 0.8800706017259193\n",
      "--------------------\n",
      "\n",
      "\n"
     ]
    }
   ],
   "source": [
    "for model in models:\n",
    "    step=list()\n",
    "    step.append(('encoder',Encoder))\n",
    "    step.append(('scaler',RobustScaler()))\n",
    "    step.append(model)\n",
    "    pipeline=Pipeline(steps=step)\n",
    "    scores = cross_validate(pipeline ,x, y, cv = 5 , scoring=\"accuracy\" , return_train_score=True)\n",
    "    print(model[0])\n",
    "    print('train_accuracy',scores['train_score'].mean())\n",
    "    print(\"-\" * 4)\n",
    "    print('test_accuracy',scores['test_score'].mean())\n",
    "    print(\"-\" * 20)\n",
    "    print(\"\\n\")\n",
    "    "
   ]
  },
  {
   "cell_type": "code",
   "execution_count": 101,
   "metadata": {},
   "outputs": [],
   "source": [
    "#choose best mode\n",
    "params = [\n",
    "        {'random__criterion':['gini', 'entropy'], 'random__n_estimators': [100, 110, 120 , 130],'random__max_depth':[14,16] }\n",
    "         ]\n"
   ]
  },
  {
   "cell_type": "code",
   "execution_count": 102,
   "metadata": {},
   "outputs": [],
   "source": [
    "step = list()\n",
    "step.append(('encoder',Encoder))\n",
    "step.append(('scaler',RobustScaler()))\n",
    "step.append((\"random\" , RandomForestClassifier()))\n",
    "pipeline = Pipeline(steps = step)"
   ]
  },
  {
   "cell_type": "code",
   "execution_count": 103,
   "metadata": {},
   "outputs": [
    {
     "data": {
      "text/plain": [
       "GridSearchCV(cv=10, error_score=nan,\n",
       "             estimator=Pipeline(memory=None,\n",
       "                                steps=[('encoder',\n",
       "                                        ColumnTransformer(n_jobs=None,\n",
       "                                                          remainder='passthrough',\n",
       "                                                          sparse_threshold=0.3,\n",
       "                                                          transformer_weights=None,\n",
       "                                                          transformers=[('OHE',\n",
       "                                                                         OneHotEncoder(categories='auto',\n",
       "                                                                                       drop='first',\n",
       "                                                                                       dtype=<class 'numpy.float64'>,\n",
       "                                                                                       handle_unknown='error',\n",
       "                                                                                       sparse=False),\n",
       "                                                                         ['online_order',\n",
       "                                                                          'book_table',\n",
       "                                                                          'list...\n",
       "                                                               min_weight_fraction_leaf=0.0,\n",
       "                                                               n_estimators=100,\n",
       "                                                               n_jobs=None,\n",
       "                                                               oob_score=False,\n",
       "                                                               random_state=None,\n",
       "                                                               verbose=0,\n",
       "                                                               warm_start=False))],\n",
       "                                verbose=False),\n",
       "             iid='deprecated', n_jobs=-1,\n",
       "             param_grid=[{'random__criterion': ['gini', 'entropy'],\n",
       "                          'random__max_depth': [14, 16],\n",
       "                          'random__n_estimators': [100, 110, 120, 130]}],\n",
       "             pre_dispatch='2*n_jobs', refit=True, return_train_score=True,\n",
       "             scoring='accuracy', verbose=0)"
      ]
     },
     "execution_count": 103,
     "metadata": {},
     "output_type": "execute_result"
    }
   ],
   "source": [
    "grid_search = GridSearchCV(estimator=pipeline,\n",
    "                           param_grid=params,\n",
    "                           scoring='accuracy',\n",
    "                           cv=10,return_train_score=True, n_jobs=-1)\n",
    "grid_search.fit(x, y)"
   ]
  },
  {
   "cell_type": "code",
   "execution_count": 104,
   "metadata": {},
   "outputs": [
    {
     "data": {
      "text/plain": [
       "{'random__criterion': 'gini',\n",
       " 'random__max_depth': 16,\n",
       " 'random__n_estimators': 130}"
      ]
     },
     "execution_count": 104,
     "metadata": {},
     "output_type": "execute_result"
    }
   ],
   "source": [
    "grid_search.best_params_"
   ]
  },
  {
   "cell_type": "code",
   "execution_count": 105,
   "metadata": {},
   "outputs": [
    {
     "data": {
      "text/plain": [
       "0.8286446792845412"
      ]
     },
     "execution_count": 105,
     "metadata": {},
     "output_type": "execute_result"
    }
   ],
   "source": [
    "grid_search.cv_results_[\"mean_test_score\"].mean()"
   ]
  },
  {
   "cell_type": "code",
   "execution_count": 106,
   "metadata": {},
   "outputs": [
    {
     "data": {
      "text/plain": [
       "0.9189144737323414"
      ]
     },
     "execution_count": 106,
     "metadata": {},
     "output_type": "execute_result"
    }
   ],
   "source": [
    "grid_search.cv_results_[\"mean_train_score\"].mean()"
   ]
  },
  {
   "cell_type": "code",
   "execution_count": 107,
   "metadata": {},
   "outputs": [],
   "source": [
    "final_model = grid_search.best_estimator_"
   ]
  },
  {
   "cell_type": "code",
   "execution_count": 108,
   "metadata": {},
   "outputs": [],
   "source": [
    "inputs = x.columns"
   ]
  },
  {
   "cell_type": "code",
   "execution_count": 109,
   "metadata": {},
   "outputs": [
    {
     "data": {
      "text/plain": [
       "Index(['online_order', 'book_table', 'votes', 'location', 'rest_type',\n",
       "       'cuisines', 'cost', 'list_type', 'city'],\n",
       "      dtype='object')"
      ]
     },
     "execution_count": 109,
     "metadata": {},
     "output_type": "execute_result"
    }
   ],
   "source": [
    "inputs"
   ]
  },
  {
   "cell_type": "code",
   "execution_count": 110,
   "metadata": {},
   "outputs": [
    {
     "data": {
      "text/plain": [
       "['Inputs.pkl']"
      ]
     },
     "execution_count": 110,
     "metadata": {},
     "output_type": "execute_result"
    }
   ],
   "source": [
    "joblib.dump(final_model , \"Model.pkl\")\n",
    "joblib.dump( inputs , \"Inputs.pkl\" )"
   ]
  },
  {
   "cell_type": "code",
   "execution_count": 111,
   "metadata": {},
   "outputs": [
    {
     "data": {
      "text/plain": [
       "(0, 14726)"
      ]
     },
     "execution_count": 111,
     "metadata": {},
     "output_type": "execute_result"
    }
   ],
   "source": [
    "df['votes'].min(),df['votes'].max()"
   ]
  },
  {
   "cell_type": "code",
   "execution_count": 112,
   "metadata": {},
   "outputs": [
    {
     "data": {
      "text/plain": [
       "(40.0, 1300.0)"
      ]
     },
     "execution_count": 112,
     "metadata": {},
     "output_type": "execute_result"
    }
   ],
   "source": [
    "df['cost'].min(),df['cost'].max()"
   ]
  },
  {
   "cell_type": "code",
   "execution_count": 113,
   "metadata": {},
   "outputs": [
    {
     "data": {
      "text/plain": [
       "array([3, 2, 1, 4, 5, 8, 7, 6], dtype=int64)"
      ]
     },
     "execution_count": 113,
     "metadata": {},
     "output_type": "execute_result"
    }
   ],
   "source": [
    "df['cuisines'].unique()"
   ]
  },
  {
   "cell_type": "code",
   "execution_count": 114,
   "metadata": {},
   "outputs": [
    {
     "data": {
      "text/plain": [
       "array(['Banashankari', 'Bannerghatta Road', 'Basavanagudi', 'Bellandur',\n",
       "       'Brigade Road', 'Brookefield', 'BTM', 'Church Street',\n",
       "       'Electronic City', 'Frazer Town', 'HSR', 'Indiranagar',\n",
       "       'Jayanagar', 'JP Nagar', 'Kalyan Nagar', 'Kammanahalli',\n",
       "       'Koramangala 4th Block', 'Koramangala 5th Block',\n",
       "       'Koramangala 6th Block', 'Koramangala 7th Block', 'Lavelle Road',\n",
       "       'Malleshwaram', 'Marathahalli', 'MG Road', 'New BEL Road',\n",
       "       'Old Airport Road', 'Rajajinagar', 'Residency Road',\n",
       "       'Sarjapur Road', 'Whitefield'], dtype=object)"
      ]
     },
     "execution_count": 114,
     "metadata": {},
     "output_type": "execute_result"
    }
   ],
   "source": [
    "df['city'].unique()"
   ]
  },
  {
   "cell_type": "code",
   "execution_count": 115,
   "metadata": {},
   "outputs": [
    {
     "name": "stdout",
     "output_type": "stream",
     "text": [
      "Overwriting app.py\n"
     ]
    }
   ],
   "source": [
    "%%writefile app.py\n",
    "import streamlit as st\n",
    "import joblib\n",
    "import pandas as pd\n",
    "\n",
    "\n",
    "Inputs = joblib.load(\"Inputs.pkl\")\n",
    "Model = joblib.load(\"Model.pkl\")\n",
    "\n",
    "def predict(online_order, book_table, votes, location, rest_type,cuisines, approx_cost, listed_in,listed_in_city):\n",
    "    test_df = pd.DataFrame(columns = Inputs)\n",
    "    test_df.at[0,\"online_order\"] = online_order\n",
    "    test_df.at[0,\"book_table\"] = book_table\n",
    "    test_df.at[0,\"votes\"] = votes\n",
    "    test_df.at[0,\"location\"] = location\n",
    "    test_df.at[0,\"rest_type\"] = rest_type\n",
    "    test_df.at[0,\"cost\"] = approx_cost\n",
    "    test_df.at[0,\"cuisines\"] = cuisines\n",
    "    test_df.at[0,\"list_type\"] = listed_in\n",
    "    test_df.at[0,\"city\"] = listed_in_city\n",
    "    result = Model.predict(test_df)[0]\n",
    "    return result\n",
    "def main():\n",
    "    st.title(\"Zomato Resturants Application\")\n",
    "    online_order = st.selectbox(\"online\" , ['Yes', 'No'])\n",
    "    book_table = st.selectbox(\"book_table\" , ['Yes', 'No'])\n",
    "    votes = st.slider(\"votes\" , min_value=0, max_value=14726, value=0, step=1)\n",
    "    location=st.selectbox('location',['Banashankari', 'Basavanagudi', 'not important', 'Jayanagar',\n",
    "       'JP Nagar', 'Bannerghatta Road', 'BTM', 'Electronic City',\n",
    "       'Koramangala 5th Block', 'Richmond Road', 'HSR', 'Marathahalli',\n",
    "       'Koramangala 7th Block', 'Bellandur', 'Sarjapur Road',\n",
    "       'Whitefield', 'Indiranagar', 'Koramangala 1st Block',\n",
    "       'Frazer Town', 'Brigade Road', 'Church Street', 'Residency Road',\n",
    "       'MG Road', 'Cunningham Road', 'Ulsoor', 'Kammanahalli',\n",
    "       'Koramangala 6th Block', 'Brookefield', 'Koramangala 4th Block',\n",
    "       'Rajajinagar', 'Banaswadi', 'Kalyan Nagar', 'New BEL Road',\n",
    "       'Malleshwaram'])\n",
    "    rest_type=st.selectbox(\"rest_type\" , [1, 2])\n",
    "    cuisines=st.selectbox(\"cuisines\" , [3, 2, 1, 4, 5, 8, 7, 6])\n",
    "    approx_cost=st.slider(\"cost\" , min_value=40, max_value=13000, value=0, step=1)\n",
    "    listed_in=st.selectbox(\"list_type\" ,['Buffet', 'Cafes', 'Delivery', 'Desserts', 'Dine-out',\n",
    "       'Drinks & nightlife', 'Pubs and bars'])\n",
    "    listed_in_city=st.selectbox(\"city\" ,['Banashankari', 'Bannerghatta Road', 'Basavanagudi', 'Bellandur',\n",
    "       'Brigade Road', 'Brookefield', 'BTM', 'Church Street',\n",
    "       'Electronic City', 'Frazer Town', 'HSR', 'Indiranagar',\n",
    "       'Jayanagar', 'JP Nagar', 'Kalyan Nagar', 'Kammanahalli',\n",
    "       'Koramangala 4th Block', 'Koramangala 5th Block',\n",
    "       'Koramangala 6th Block', 'Koramangala 7th Block', 'Lavelle Road',\n",
    "       'Malleshwaram', 'Marathahalli', 'MG Road', 'New BEL Road',\n",
    "       'Old Airport Road', 'Rajajinagar', 'Residency Road',\n",
    "       'Sarjapur Road', 'Whitefield'])\n",
    "    if st.button(\"Predict\"):\n",
    "        result = predict(online_order, book_table, votes, location, rest_type,cuisines, approx_cost, listed_in,listed_in_city)\n",
    "        label = [\"Fail\",\"Success\"]\n",
    "        st.text(\"The output is {}\".format(label[result]))\n",
    "if __name__ == '__main__':\n",
    "    main()\n",
    "                                "
   ]
  },
  {
   "cell_type": "code",
   "execution_count": null,
   "metadata": {},
   "outputs": [],
   "source": []
  },
  {
   "cell_type": "code",
   "execution_count": null,
   "metadata": {},
   "outputs": [],
   "source": []
  }
 ],
 "metadata": {
  "kernelspec": {
   "display_name": "Python 3",
   "language": "python",
   "name": "python3"
  },
  "language_info": {
   "codemirror_mode": {
    "name": "ipython",
    "version": 3
   },
   "file_extension": ".py",
   "mimetype": "text/x-python",
   "name": "python",
   "nbconvert_exporter": "python",
   "pygments_lexer": "ipython3",
   "version": "3.7.6"
  }
 },
 "nbformat": 4,
 "nbformat_minor": 4
}
